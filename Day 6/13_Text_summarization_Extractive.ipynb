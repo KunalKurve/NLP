{
 "cells": [
  {
   "cell_type": "code",
   "execution_count": 1,
   "metadata": {},
   "outputs": [
    {
     "name": "stdout",
     "output_type": "stream",
     "text": [
      "Collecting sumy\n",
      "  Downloading sumy-0.11.0-py2.py3-none-any.whl.metadata (7.5 kB)\n",
      "Requirement already satisfied: transformers in c:\\users\\administrator.dai-pc2\\anaconda3\\lib\\site-packages (4.41.0)\n",
      "Collecting docopt<0.7,>=0.6.1 (from sumy)\n",
      "  Downloading docopt-0.6.2.tar.gz (25 kB)\n",
      "  Preparing metadata (setup.py): started\n",
      "  Preparing metadata (setup.py): finished with status 'done'\n",
      "Collecting breadability>=0.1.20 (from sumy)\n",
      "  Downloading breadability-0.1.20.tar.gz (32 kB)\n",
      "  Preparing metadata (setup.py): started\n",
      "  Preparing metadata (setup.py): finished with status 'done'\n",
      "Requirement already satisfied: requests>=2.7.0 in c:\\users\\administrator.dai-pc2\\anaconda3\\lib\\site-packages (from sumy) (2.31.0)\n",
      "Collecting pycountry>=18.2.23 (from sumy)\n",
      "  Downloading pycountry-24.6.1-py3-none-any.whl.metadata (12 kB)\n",
      "Requirement already satisfied: nltk>=3.0.2 in c:\\users\\administrator.dai-pc2\\anaconda3\\lib\\site-packages (from sumy) (3.8.1)\n",
      "Requirement already satisfied: filelock in c:\\users\\administrator.dai-pc2\\anaconda3\\lib\\site-packages (from transformers) (3.13.1)\n",
      "Requirement already satisfied: huggingface-hub<1.0,>=0.23.0 in c:\\users\\administrator.dai-pc2\\anaconda3\\lib\\site-packages (from transformers) (0.23.0)\n",
      "Requirement already satisfied: numpy>=1.17 in c:\\users\\administrator.dai-pc2\\anaconda3\\lib\\site-packages (from transformers) (1.26.4)\n",
      "Requirement already satisfied: packaging>=20.0 in c:\\users\\administrator.dai-pc2\\anaconda3\\lib\\site-packages (from transformers) (23.1)\n",
      "Requirement already satisfied: pyyaml>=5.1 in c:\\users\\administrator.dai-pc2\\anaconda3\\lib\\site-packages (from transformers) (6.0.1)\n",
      "Requirement already satisfied: regex!=2019.12.17 in c:\\users\\administrator.dai-pc2\\anaconda3\\lib\\site-packages (from transformers) (2023.10.3)\n",
      "Requirement already satisfied: tokenizers<0.20,>=0.19 in c:\\users\\administrator.dai-pc2\\anaconda3\\lib\\site-packages (from transformers) (0.19.1)\n",
      "Requirement already satisfied: safetensors>=0.4.1 in c:\\users\\administrator.dai-pc2\\anaconda3\\lib\\site-packages (from transformers) (0.4.3)\n",
      "Requirement already satisfied: tqdm>=4.27 in c:\\users\\administrator.dai-pc2\\anaconda3\\lib\\site-packages (from transformers) (4.66.4)\n",
      "Requirement already satisfied: chardet in c:\\users\\administrator.dai-pc2\\anaconda3\\lib\\site-packages (from breadability>=0.1.20->sumy) (4.0.0)\n",
      "Requirement already satisfied: lxml>=2.0 in c:\\users\\administrator.dai-pc2\\anaconda3\\lib\\site-packages (from breadability>=0.1.20->sumy) (4.9.3)\n",
      "Requirement already satisfied: fsspec>=2023.5.0 in c:\\users\\administrator.dai-pc2\\anaconda3\\lib\\site-packages (from huggingface-hub<1.0,>=0.23.0->transformers) (2023.10.0)\n",
      "Requirement already satisfied: typing-extensions>=3.7.4.3 in c:\\users\\administrator.dai-pc2\\anaconda3\\lib\\site-packages (from huggingface-hub<1.0,>=0.23.0->transformers) (4.9.0)\n",
      "Requirement already satisfied: click in c:\\users\\administrator.dai-pc2\\anaconda3\\lib\\site-packages (from nltk>=3.0.2->sumy) (8.1.7)\n",
      "Requirement already satisfied: joblib in c:\\users\\administrator.dai-pc2\\anaconda3\\lib\\site-packages (from nltk>=3.0.2->sumy) (1.2.0)\n",
      "Requirement already satisfied: charset-normalizer<4,>=2 in c:\\users\\administrator.dai-pc2\\anaconda3\\lib\\site-packages (from requests>=2.7.0->sumy) (2.0.4)\n",
      "Requirement already satisfied: idna<4,>=2.5 in c:\\users\\administrator.dai-pc2\\anaconda3\\lib\\site-packages (from requests>=2.7.0->sumy) (3.4)\n",
      "Requirement already satisfied: urllib3<3,>=1.21.1 in c:\\users\\administrator.dai-pc2\\anaconda3\\lib\\site-packages (from requests>=2.7.0->sumy) (2.0.7)\n",
      "Requirement already satisfied: certifi>=2017.4.17 in c:\\users\\administrator.dai-pc2\\anaconda3\\lib\\site-packages (from requests>=2.7.0->sumy) (2024.2.2)\n",
      "Requirement already satisfied: colorama in c:\\users\\administrator.dai-pc2\\anaconda3\\lib\\site-packages (from tqdm>=4.27->transformers) (0.4.6)\n",
      "Downloading sumy-0.11.0-py2.py3-none-any.whl (97 kB)\n",
      "   ---------------------------------------- 0.0/97.3 kB ? eta -:--:--\n",
      "   ---------------------------------------- 97.3/97.3 kB 1.9 MB/s eta 0:00:00\n",
      "Downloading pycountry-24.6.1-py3-none-any.whl (6.3 MB)\n",
      "   ---------------------------------------- 0.0/6.3 MB ? eta -:--:--\n",
      "   -- ------------------------------------- 0.4/6.3 MB 12.9 MB/s eta 0:00:01\n",
      "   ----- ---------------------------------- 0.9/6.3 MB 11.8 MB/s eta 0:00:01\n",
      "   --------- ------------------------------ 1.4/6.3 MB 11.5 MB/s eta 0:00:01\n",
      "   ------------ --------------------------- 2.0/6.3 MB 11.4 MB/s eta 0:00:01\n",
      "   -------------- ------------------------- 2.3/6.3 MB 9.9 MB/s eta 0:00:01\n",
      "   ------------------ --------------------- 2.9/6.3 MB 10.3 MB/s eta 0:00:01\n",
      "   -------------------- ------------------- 3.3/6.3 MB 10.0 MB/s eta 0:00:01\n",
      "   ------------------------ --------------- 3.8/6.3 MB 9.7 MB/s eta 0:00:01\n",
      "   --------------------------- ------------ 4.3/6.3 MB 9.9 MB/s eta 0:00:01\n",
      "   ------------------------------ --------- 4.8/6.3 MB 9.9 MB/s eta 0:00:01\n",
      "   --------------------------------- ------ 5.2/6.3 MB 9.9 MB/s eta 0:00:01\n",
      "   ------------------------------------ --- 5.7/6.3 MB 9.9 MB/s eta 0:00:01\n",
      "   -------------------------------------- - 6.2/6.3 MB 9.8 MB/s eta 0:00:01\n",
      "   ---------------------------------------  6.3/6.3 MB 9.9 MB/s eta 0:00:01\n",
      "   ---------------------------------------- 6.3/6.3 MB 9.2 MB/s eta 0:00:00\n",
      "Building wheels for collected packages: breadability, docopt\n",
      "  Building wheel for breadability (setup.py): started\n",
      "  Building wheel for breadability (setup.py): finished with status 'done'\n",
      "  Created wheel for breadability: filename=breadability-0.1.20-py2.py3-none-any.whl size=21739 sha256=d21f47c591f4c6374f774afadecd4beeb4129b0b4d87293eef2b18f835f6f4f5\n",
      "  Stored in directory: c:\\users\\administrator.dai-pc2\\appdata\\local\\pip\\cache\\wheels\\4d\\57\\58\\7e3d7fedf51fe248b7fcee3df6945ae28638e22cddf01eb92b\n",
      "  Building wheel for docopt (setup.py): started\n",
      "  Building wheel for docopt (setup.py): finished with status 'done'\n",
      "  Created wheel for docopt: filename=docopt-0.6.2-py2.py3-none-any.whl size=13773 sha256=c31191306cb1f543dc2aadb64e4ffc82e09da7d3d4bfd5ed8940fbb5d6fc26f1\n",
      "  Stored in directory: c:\\users\\administrator.dai-pc2\\appdata\\local\\pip\\cache\\wheels\\1a\\b0\\8c\\4b75c4116c31f83c8f9f047231251e13cc74481cca4a78a9ce\n",
      "Successfully built breadability docopt\n",
      "Installing collected packages: docopt, pycountry, breadability, sumy\n",
      "Successfully installed breadability-0.1.20 docopt-0.6.2 pycountry-24.6.1 sumy-0.11.0\n",
      "Note: you may need to restart the kernel to use updated packages.\n"
     ]
    }
   ],
   "source": [
    "pip install sumy transformers\n"
   ]
  },
  {
   "cell_type": "markdown",
   "metadata": {},
   "source": [
    "# Extractive Summarization"
   ]
  },
  {
   "cell_type": "markdown",
   "metadata": {},
   "source": [
    "### Text Rank Summarizer"
   ]
  },
  {
   "cell_type": "code",
   "execution_count": 5,
   "metadata": {},
   "outputs": [],
   "source": [
    "#Import the class\n",
    "from sumy.summarizers.text_rank import TextRankSummarizer\n",
    "# Import parser and tokenizers\n",
    "from sumy.parsers.plaintext import PlaintextParser\n",
    "from sumy.nlp.tokenizers import Tokenizer"
   ]
  },
  {
   "cell_type": "code",
   "execution_count": 36,
   "metadata": {},
   "outputs": [
    {
     "name": "stderr",
     "output_type": "stream",
     "text": [
      "[nltk_data] Downloading package punkt to C:\\Users\\Administrator.DAI-\n",
      "[nltk_data]     PC2\\AppData\\Roaming\\nltk_data...\n",
      "[nltk_data]   Package punkt is already up-to-date!\n"
     ]
    },
    {
     "data": {
      "text/plain": [
       "True"
      ]
     },
     "execution_count": 36,
     "metadata": {},
     "output_type": "execute_result"
    }
   ],
   "source": [
    "import nltk\n",
    "nltk.download('punkt')"
   ]
  },
  {
   "cell_type": "code",
   "execution_count": 8,
   "metadata": {},
   "outputs": [],
   "source": [
    "text = '''The tiger (Panthera tigris) is the largest living cat species and a member of the genus Panthera native to Asia. It has a powerful, muscular body with a large head and paws, \n",
    "a long tail, and orange fur with black, mostly vertical stripes. It is traditionally classified into nine recent subspecies, though some recognise only two subspecies, mainland Asian tigers and \n",
    "island tigers of the Sunda Islands.\n",
    "Throughout the tiger's range, it inhabits mainly forests, from coniferous and temperate broadleaf and mixed forests in the Russian Far East and Northeast China to tropical and \n",
    "subtropical moist broadleaf forests on the Indian subcontinent and Southeast Asia. The tiger is an apex predator and preys mainly on ungulates such as deer and wild boar, which it takes by ambush.\n",
    "It lives a mostly solitary life and occupies home ranges, which it defends from individuals of the same sex. The range of a male tiger overlaps with that of multiple females with whom\n",
    "he has reproductive claims. Females give birth to usually two or three cubs that stay with their mother for about two years. When becoming independent, they leave their mother's home range\n",
    "and establish their own.\n",
    "Since the early 20th century, tiger populations have lost at least 93% of their historic range and are locally extinct in West and Central Asia, in large areas of China, \n",
    "and on the islands of Java and Bali. Today, the tiger's range is severely fragmented. It is listed as Endangered on the IUCN Red List of Threatened Species, as its range is thought to have \n",
    "declined by 53% to 68% since the late 1990s. Major reasons for this decline are habitat destruction and fragmentation due to deforestation, poaching for fur, and the illegal trade of tiger \n",
    "body parts for medicinal purposes. Tigers are also victims of human–wildlife conflict for attacking and preying on livestock in areas, where natural prey is scarce. The species is legally \n",
    "protected in all range countries, which have ratified conservation action plans, established anti-poaching patrols and schemes for monitoring tiger populations.\n",
    "The tiger is among the most popular of the world's charismatic megafauna. It has been kept in captivity since ancient times and has been trained to perform in circuses and other entertainment \n",
    "shows. The tiger featured prominently in the ancient mythology and folklore of cultures throughout its historic range and has continued to appear in culture worldwide.\n",
    "'''"
   ]
  },
  {
   "cell_type": "code",
   "execution_count": 10,
   "metadata": {},
   "outputs": [
    {
     "name": "stdout",
     "output_type": "stream",
     "text": [
      "The tiger (Panthera tigris) is the largest living cat species and a member of the genus Panthera native to Asia. It has a powerful, muscular body with a large head and paws, \n",
      "a long tail, and orange fur with black, mostly vertical stripes. It is traditionally classified into nine recent subspecies, though some recognise only two subspecies, mainland Asian tigers and \n",
      "island tigers of the Sunda Islands.\n",
      "Throughout the tiger's range, it inhabits mainly forests, from coniferous and temperate broadleaf and mixed forests in the Russian Far East and Northeast China to tropical and \n",
      "subtropical moist broadleaf forests on the Indian subcontinent and Southeast Asia. The tiger is an apex predator and preys mainly on ungulates such as deer and wild boar, which it takes by ambush.\n",
      "It lives a mostly solitary life and occupies home ranges, which it defends from individuals of the same sex. The range of a male tiger overlaps with that of multiple females with whom\n",
      "he has reproductive claims. Females give birth to usually two or three cubs that stay with their mother for about two years. When becoming independent, they leave their mother's home range\n",
      "and establish their own.\n",
      "Since the early 20th century, tiger populations have lost at least 93% of their historic range and are locally extinct in West and Central Asia, in large areas of China, \n",
      "and on the islands of Java and Bali. Today, the tiger's range is severely fragmented. It is listed as Endangered on the IUCN Red List of Threatened Species, as its range is thought to have \n",
      "declined by 53% to 68% since the late 1990s. Major reasons for this decline are habitat destruction and fragmentation due to deforestation, poaching for fur, and the illegal trade of tiger \n",
      "body parts for medicinal purposes. Tigers are also victims of human–wildlife conflict for attacking and preying on livestock in areas, where natural prey is scarce. The species is legally \n",
      "protected in all range countries, which have ratified conservation action plans, established anti-poaching patrols and schemes for monitoring tiger populations.\n",
      "The tiger is among the most popular of the world's charismatic megafauna. It has been kept in captivity since ancient times and has been trained to perform in circuses and other entertainment \n",
      "shows. The tiger featured prominently in the ancient mythology and folklore of cultures throughout its historic range and has continued to appear in culture worldwide.\n",
      "\n"
     ]
    }
   ],
   "source": [
    "print(text)"
   ]
  },
  {
   "cell_type": "code",
   "execution_count": 11,
   "metadata": {},
   "outputs": [],
   "source": [
    "from nltk.tokenize import sent_tokenize"
   ]
  },
  {
   "cell_type": "code",
   "execution_count": 12,
   "metadata": {},
   "outputs": [
    {
     "data": {
      "text/plain": [
       "18"
      ]
     },
     "execution_count": 12,
     "metadata": {},
     "output_type": "execute_result"
    }
   ],
   "source": [
    "sents = sent_tokenize(text)\n",
    "len(sents)"
   ]
  },
  {
   "cell_type": "code",
   "execution_count": 13,
   "metadata": {},
   "outputs": [
    {
     "data": {
      "text/plain": [
       "['The tiger (Panthera tigris) is the largest living cat species and a member of the genus Panthera native to Asia.',\n",
       " 'It has a powerful, muscular body with a large head and paws, \\na long tail, and orange fur with black, mostly vertical stripes.',\n",
       " 'It is traditionally classified into nine recent subspecies, though some recognise only two subspecies, mainland Asian tigers and \\nisland tigers of the Sunda Islands.',\n",
       " \"Throughout the tiger's range, it inhabits mainly forests, from coniferous and temperate broadleaf and mixed forests in the Russian Far East and Northeast China to tropical and \\nsubtropical moist broadleaf forests on the Indian subcontinent and Southeast Asia.\",\n",
       " 'The tiger is an apex predator and preys mainly on ungulates such as deer and wild boar, which it takes by ambush.',\n",
       " 'It lives a mostly solitary life and occupies home ranges, which it defends from individuals of the same sex.',\n",
       " 'The range of a male tiger overlaps with that of multiple females with whom\\nhe has reproductive claims.',\n",
       " 'Females give birth to usually two or three cubs that stay with their mother for about two years.',\n",
       " \"When becoming independent, they leave their mother's home range\\nand establish their own.\",\n",
       " 'Since the early 20th century, tiger populations have lost at least 93% of their historic range and are locally extinct in West and Central Asia, in large areas of China, \\nand on the islands of Java and Bali.',\n",
       " \"Today, the tiger's range is severely fragmented.\",\n",
       " 'It is listed as Endangered on the IUCN Red List of Threatened Species, as its range is thought to have \\ndeclined by 53% to 68% since the late 1990s.',\n",
       " 'Major reasons for this decline are habitat destruction and fragmentation due to deforestation, poaching for fur, and the illegal trade of tiger \\nbody parts for medicinal purposes.',\n",
       " 'Tigers are also victims of human–wildlife conflict for attacking and preying on livestock in areas, where natural prey is scarce.',\n",
       " 'The species is legally \\nprotected in all range countries, which have ratified conservation action plans, established anti-poaching patrols and schemes for monitoring tiger populations.',\n",
       " \"The tiger is among the most popular of the world's charismatic megafauna.\",\n",
       " 'It has been kept in captivity since ancient times and has been trained to perform in circuses and other entertainment \\nshows.',\n",
       " 'The tiger featured prominently in the ancient mythology and folklore of cultures throughout its historic range and has continued to appear in culture worldwide.']"
      ]
     },
     "execution_count": 13,
     "metadata": {},
     "output_type": "execute_result"
    }
   ],
   "source": [
    "sents"
   ]
  },
  {
   "cell_type": "code",
   "execution_count": 14,
   "metadata": {},
   "outputs": [],
   "source": [
    "# initialize the parser\n",
    "my_parser = PlaintextParser.from_string(text, Tokenizer('english'))"
   ]
  },
  {
   "cell_type": "code",
   "execution_count": 15,
   "metadata": {},
   "outputs": [],
   "source": [
    "# create the object of summarizer\n",
    "text_rank_summarizer = TextRankSummarizer()"
   ]
  },
  {
   "cell_type": "code",
   "execution_count": 18,
   "metadata": {},
   "outputs": [],
   "source": [
    "# Extract top 3 sentences\n",
    "summary = text_rank_summarizer(my_parser.document, sentences_count=3)"
   ]
  },
  {
   "cell_type": "code",
   "execution_count": 20,
   "metadata": {},
   "outputs": [
    {
     "name": "stdout",
     "output_type": "stream",
     "text": [
      "Throughout the tiger's range, it inhabits mainly forests, from coniferous and temperate broadleaf and mixed forests in the Russian Far East and Northeast China to tropical and subtropical moist broadleaf forests on the Indian subcontinent and Southeast Asia. \n",
      "\n",
      "Since the early 20th century, tiger populations have lost at least 93% of their historic range and are locally extinct in West and Central Asia, in large areas of China, and on the islands of Java and Bali. \n",
      "\n",
      "The tiger featured prominently in the ancient mythology and folklore of cultures throughout its historic range and has continued to appear in culture worldwide. \n",
      "\n"
     ]
    }
   ],
   "source": [
    "for sent in summary:\n",
    "    print(sent,'\\n')"
   ]
  },
  {
   "cell_type": "markdown",
   "metadata": {},
   "source": [
    "## LexRank Summarizer"
   ]
  },
  {
   "cell_type": "code",
   "execution_count": 25,
   "metadata": {},
   "outputs": [],
   "source": [
    "# import the class\n",
    "from sumy.summarizers.lex_rank import LexRankSummarizer"
   ]
  },
  {
   "cell_type": "code",
   "execution_count": 27,
   "metadata": {},
   "outputs": [],
   "source": [
    "# create the object of summarizer\n",
    "lex_rank_summarizer = LexRankSummarizer()"
   ]
  },
  {
   "cell_type": "code",
   "execution_count": 23,
   "metadata": {},
   "outputs": [],
   "source": [
    "# Extract top 3 sentences\n",
    "summary = lex_rank_summarizer(my_parser.document, sentences_count=3)"
   ]
  },
  {
   "cell_type": "code",
   "execution_count": 28,
   "metadata": {},
   "outputs": [
    {
     "name": "stdout",
     "output_type": "stream",
     "text": [
      "It has a powerful, muscular body with a large head and paws, a long tail, and orange fur with black, mostly vertical stripes. \n",
      "\n",
      "Females give birth to usually two or three cubs that stay with their mother for about two years. \n",
      "\n",
      "Since the early 20th century, tiger populations have lost at least 93% of their historic range and are locally extinct in West and Central Asia, in large areas of China, and on the islands of Java and Bali. \n",
      "\n"
     ]
    }
   ],
   "source": [
    "for sent in summary:\n",
    "    print(sent,'\\n')"
   ]
  },
  {
   "cell_type": "code",
   "execution_count": 30,
   "metadata": {},
   "outputs": [],
   "source": [
    "mtext='''वाघाचे खरे माहेरघर हे भारत मानले जाते. आजही तेथे काही शेकड्यांनी वाघ शिल्लक आहेत. तिथून वाघ मांचूरिया चीन, आग्नेय अशियातून भारतात आला असे मानले जाते[ संदर्भ हवा ]. यातील बऱ्याच भागात पूर्वी वाघ मुबलक प्रमाणात आढळत होता परंतु शिकार व वसतिस्थानाचा नाश यांमुळे तेथून वाघ नामशेष झाला. जंगली वाघ हा आज प्रामुख्याने भारत, ब्रह्मदेश, थायलंड, चीन व रशिया या देशांत आढळतो तसेच प्राणिसंग्रहालयातील वाघ आज जगभर पोहोचले आहेत व ते वाघांच्या एकूण संख्येचा मोठा भाग आहेत. वाघ (पेंथेरा टायग्रिस) हा मांजर कुटुंब, फेलिडे याचा सर्वात मोठा जिवंत सदस्य आहे. हा शिकार करून खातो. हा आशिया, मुख्यतः भारत, भूतान, चीन, कोरिया आणि साइबेरियन रशियामध्ये राहतो. २०२० साली जंगली वाघांतील ७० टक्के वाघ भारतात आहेत. भारतामध्ये २०१४ मध्ये २२२६ वाघ होते. ४ वर्षांनी २०१८ मध्ये ही संख्या वाढून २९६७ वर पोचली.[५]\n",
    "\n",
    "वाघांची संख्या भारतात सर्वाधिक असली तरी भारतात देखील वाघ आज दुर्मिळ झाले असून त्यांची संख्या चिंताजनक आहे. भारतातील पंजाब, हरियाणा ही राज्ये सोडल्यास सर्व राज्यात वाघाचे थोडे थोडे अस्तित्व आहे.\n",
    "\n",
    "भारतातील वाघांच्या आढळाचे ५ उपविभाग आहेत --\n",
    "\n",
    "हिमालय व तराई विभाग - यात जम्मू आणि काश्मीर, हिमाचल प्रदेश, उत्तरांचल, उत्तरप्रदेश, बिहार, सिक्कीम, आसाम अरुणाचल प्रदेश व इशान्य भारतातील राज्ये येतात. यातील हिमालयाच्या तराई जंगलांमध्ये वाघांचे वसतीस्थान आहे.\n",
    "अरवली पर्वताच्या पूर्व भागातील शुष्क जंगलांमध्ये वाघांचे अस्तित्व आहे. यांत रणथंभोर सरिस्का सारखी राष्ट्रीय उद्याने येतात.\n",
    "सुंदरबन व ओडिशा .\n",
    "मध्य भारतातील पानगळी जंगलांमध्ये वाघांचे सर्वाधिक अस्तित्व आढळते. यात कान्हा, बांधवगड, मेळघाट(गुगमाळ्), ताडोबा यासारखी राष्ट्रीय उद्याने व अभयारण्ये येतात.\n",
    "सह्याद्री व मलबार किनारा यात प्रामुख्याने सह्याद्रीचा दक्षिण भाग येतो. बंदीपूर, मदुमलाई पेरियार इत्यादी. महाराष्ट्रातील सह्याद्रीत केवळ कोयना व चांदोली अभयारण्यात वाघांचे अस्तित्व आहे.[६]\n",
    "वाघाचे वसतिस्थान हे मुख्यत्वे दाट ते अतिशय घनदाट जंगलात असते. वाघाच्या शिकार करण्याच्या पद्धतीमुळे त्याने त्याचे वसतिस्थान निवडले असावे. राजस्थानातील शुष्क जंगले, तसेच सुंदरबनमधील खारफ़ुटीची जंगले, काझ़ीरंगातील गवताळ जंगल असे विविध प्रकारच्या जंगलात वाघाचे वास्तव्य आहे. तरीदेखील वाघ हा बिबट्यासारखा कोणत्याही प्रकारच्या जंगलात राहण्यास सरावला नाही. तसेच प्रत्येक वाघांचे शिकारीचे क्षेत्र हे बरेच मोठे असते (साधारणपणे १०० चौ.किमी). त्यामुळे वाघ साधारणपणे मोठी जंगले पसंत करतात. म्हणूनच पूर्वीच्या मध्यम आकाराच्या जंगलात वाघ दिसत व आज ती जंगले हे लहान झाल्यामुळे वाघांचे अस्तित्व संपृष्टात आले[ संदर्भ हवा ]. (उदा: महाराष्ट्रातील सह्याद्री व कोकणातील जंगले)\n",
    "\n",
    "नुकत्याच झालेल्या एका सर्वेक्षणानुसार,भारतात वाघांची संख्या वाढली असून ती आता २९६७ झाल्याचे सांगण्यात येते. तसेच, मध्य भारतातील, ताडोबा, पेंच, कान्हा व मेळघाट आदी जंगल परिसरात एकूण सुमारे ७१८ वाघ असल्याचे यात दृष्टीपथात आले.हे सर्वेक्षण 'वाईल्ड लाईफ कंझर्वेशन ट्रस्ट' तर्फे कॅमेरे लावून करण्यात आले.\n",
    "'''"
   ]
  },
  {
   "cell_type": "code",
   "execution_count": 31,
   "metadata": {},
   "outputs": [
    {
     "data": {
      "text/plain": [
       "\"वाघाचे खरे माहेरघर हे भारत मानले जाते. आजही तेथे काही शेकड्यांनी वाघ शिल्लक आहेत. तिथून वाघ मांचूरिया चीन, आग्नेय अशियातून भारतात आला असे मानले जाते[ संदर्भ हवा ]. यातील बऱ्याच भागात पूर्वी वाघ मुबलक प्रमाणात आढळत होता परंतु शिकार व वसतिस्थानाचा नाश यांमुळे तेथून वाघ नामशेष झाला. जंगली वाघ हा आज प्रामुख्याने भारत, ब्रह्मदेश, थायलंड, चीन व रशिया या देशांत आढळतो तसेच प्राणिसंग्रहालयातील वाघ आज जगभर पोहोचले आहेत व ते वाघांच्या एकूण संख्येचा मोठा भाग आहेत. वाघ (पेंथेरा टायग्रिस) हा मांजर कुटुंब, फेलिडे याचा सर्वात मोठा जिवंत सदस्य आहे. हा शिकार करून खातो. हा आशिया, मुख्यतः भारत, भूतान, चीन, कोरिया आणि साइबेरियन रशियामध्ये राहतो. २०२० साली जंगली वाघांतील ७० टक्के वाघ भारतात आहेत. भारतामध्ये २०१४ मध्ये २२२६ वाघ होते. ४ वर्षांनी २०१८ मध्ये ही संख्या वाढून २९६७ वर पोचली.[५]\\n\\nवाघांची संख्या भारतात सर्वाधिक असली तरी भारतात देखील वाघ आज दुर्मिळ झाले असून त्यांची संख्या चिंताजनक आहे. भारतातील पंजाब, हरियाणा ही राज्ये सोडल्यास सर्व राज्यात वाघाचे थोडे थोडे अस्तित्व आहे.\\n\\nभारतातील वाघांच्या आढळाचे ५ उपविभाग आहेत --\\n\\nहिमालय व तराई विभाग - यात जम्मू आणि काश्मीर, हिमाचल प्रदेश, उत्तरांचल, उत्तरप्रदेश, बिहार, सिक्कीम, आसाम अरुणाचल प्रदेश व इशान्य भारतातील राज्ये येतात. यातील हिमालयाच्या तराई जंगलांमध्ये वाघांचे वसतीस्थान आहे.\\nअरवली पर्वताच्या पूर्व भागातील शुष्क जंगलांमध्ये वाघांचे अस्तित्व आहे. यांत रणथंभोर सरिस्का सारखी राष्ट्रीय उद्याने येतात.\\nसुंदरबन व ओडिशा .\\nमध्य भारतातील पानगळी जंगलांमध्ये वाघांचे सर्वाधिक अस्तित्व आढळते. यात कान्हा, बांधवगड, मेळघाट(गुगमाळ्), ताडोबा यासारखी राष्ट्रीय उद्याने व अभयारण्ये येतात.\\nसह्याद्री व मलबार किनारा यात प्रामुख्याने सह्याद्रीचा दक्षिण भाग येतो. बंदीपूर, मदुमलाई पेरियार इत्यादी. महाराष्ट्रातील सह्याद्रीत केवळ कोयना व चांदोली अभयारण्यात वाघांचे अस्तित्व आहे.[६]\\nवाघाचे वसतिस्थान हे मुख्यत्वे दाट ते अतिशय घनदाट जंगलात असते. वाघाच्या शिकार करण्याच्या पद्धतीमुळे त्याने त्याचे वसतिस्थान निवडले असावे. राजस्थानातील शुष्क जंगले, तसेच सुंदरबनमधील खारफ़ुटीची जंगले, काझ़ीरंगातील गवताळ जंगल असे विविध प्रकारच्या जंगलात वाघाचे वास्तव्य आहे. तरीदेखील वाघ हा बिबट्यासारखा कोणत्याही प्रकारच्या जंगलात राहण्यास सरावला नाही. तसेच प्रत्येक वाघांचे शिकारीचे क्षेत्र हे बरेच मोठे असते (साधारणपणे १०० चौ.किमी). त्यामुळे वाघ साधारणपणे मोठी जंगले पसंत करतात. म्हणूनच पूर्वीच्या मध्यम आकाराच्या जंगलात वाघ दिसत व आज ती जंगले हे लहान झाल्यामुळे वाघांचे अस्तित्व संपृष्टात आले[ संदर्भ हवा ]. (उदा: महाराष्ट्रातील सह्याद्री व कोकणातील जंगले)\\n\\nनुकत्याच झालेल्या एका सर्वेक्षणानुसार,भारतात वाघांची संख्या वाढली असून ती आता २९६७ झाल्याचे सांगण्यात येते. तसेच, मध्य भारतातील, ताडोबा, पेंच, कान्हा व मेळघाट आदी जंगल परिसरात एकूण सुमारे ७१८ वाघ असल्याचे यात दृष्टीपथात आले.हे सर्वेक्षण 'वाईल्ड लाईफ कंझर्वेशन ट्रस्ट' तर्फे कॅमेरे लावून करण्यात आले.\\n\""
      ]
     },
     "execution_count": 31,
     "metadata": {},
     "output_type": "execute_result"
    }
   ],
   "source": [
    "mtext"
   ]
  },
  {
   "cell_type": "code",
   "execution_count": 32,
   "metadata": {},
   "outputs": [
    {
     "data": {
      "text/plain": [
       "32"
      ]
     },
     "execution_count": 32,
     "metadata": {},
     "output_type": "execute_result"
    }
   ],
   "source": [
    "len(sent_tokenize(mtext))"
   ]
  },
  {
   "cell_type": "code",
   "execution_count": 38,
   "metadata": {},
   "outputs": [],
   "source": [
    "# initialize the parser\n",
    "my_parser = PlaintextParser.from_string(mtext, Tokenizer('english'))"
   ]
  },
  {
   "cell_type": "code",
   "execution_count": 39,
   "metadata": {},
   "outputs": [],
   "source": [
    "summary = text_rank_summarizer(my_parser.document,sentences_count=3)"
   ]
  },
  {
   "cell_type": "code",
   "execution_count": 41,
   "metadata": {},
   "outputs": [
    {
     "name": "stdout",
     "output_type": "stream",
     "text": [
      "जंगली वाघ हा आज प्रामुख्याने भारत, ब्रह्मदेश, थायलंड, चीन व रशिया या देशांत आढळतो तसेच प्राणिसंग्रहालयातील वाघ आज जगभर पोहोचले आहेत व ते वाघांच्या एकूण संख्येचा मोठा भाग आहेत. \n",
      "\n",
      "हिमालय व तराई विभाग - यात जम्मू आणि काश्मीर, हिमाचल प्रदेश, उत्तरांचल, उत्तरप्रदेश, बिहार, सिक्कीम, आसाम अरुणाचल प्रदेश व इशान्य भारतातील राज्ये येतात. \n",
      "\n",
      "म्हणूनच पूर्वीच्या मध्यम आकाराच्या जंगलात वाघ दिसत व आज ती जंगले हे लहान झाल्यामुळे वाघांचे अस्तित्व संपृष्टात आले[ संदर्भ हवा ]. \n",
      "\n"
     ]
    }
   ],
   "source": [
    "for sent in summary:\n",
    "    print(sent,'\\n')"
   ]
  },
  {
   "cell_type": "code",
   "execution_count": 42,
   "metadata": {},
   "outputs": [],
   "source": [
    "summary = lex_rank_summarizer(my_parser.document,sentences_count=3)"
   ]
  },
  {
   "cell_type": "code",
   "execution_count": 43,
   "metadata": {},
   "outputs": [
    {
     "name": "stdout",
     "output_type": "stream",
     "text": [
      "यातील बऱ्याच भागात पूर्वी वाघ मुबलक प्रमाणात आढळत होता परंतु शिकार व वसतिस्थानाचा नाश यांमुळे तेथून वाघ नामशेष झाला. \n",
      "\n",
      "जंगली वाघ हा आज प्रामुख्याने भारत, ब्रह्मदेश, थायलंड, चीन व रशिया या देशांत आढळतो तसेच प्राणिसंग्रहालयातील वाघ आज जगभर पोहोचले आहेत व ते वाघांच्या एकूण संख्येचा मोठा भाग आहेत. \n",
      "\n",
      "म्हणूनच पूर्वीच्या मध्यम आकाराच्या जंगलात वाघ दिसत व आज ती जंगले हे लहान झाल्यामुळे वाघांचे अस्तित्व संपृष्टात आले[ संदर्भ हवा ]. \n",
      "\n"
     ]
    }
   ],
   "source": [
    "for sent in summary:\n",
    "    print(sent,'\\n')"
   ]
  },
  {
   "cell_type": "markdown",
   "metadata": {},
   "source": [
    "## LSA Summarizers"
   ]
  },
  {
   "cell_type": "code",
   "execution_count": 48,
   "metadata": {},
   "outputs": [
    {
     "name": "stdout",
     "output_type": "stream",
     "text": [
      "यातील बऱ्याच भागात पूर्वी वाघ मुबलक प्रमाणात आढळत होता परंतु शिकार व वसतिस्थानाचा नाश यांमुळे तेथून वाघ नामशेष झाला. \n",
      "\n",
      "जंगली वाघ हा आज प्रामुख्याने भारत, ब्रह्मदेश, थायलंड, चीन व रशिया या देशांत आढळतो तसेच प्राणिसंग्रहालयातील वाघ आज जगभर पोहोचले आहेत व ते वाघांच्या एकूण संख्येचा मोठा भाग आहेत. \n",
      "\n",
      "म्हणूनच पूर्वीच्या मध्यम आकाराच्या जंगलात वाघ दिसत व आज ती जंगले हे लहान झाल्यामुळे वाघांचे अस्तित्व संपृष्टात आले[ संदर्भ हवा ]. \n",
      "\n"
     ]
    },
    {
     "name": "stderr",
     "output_type": "stream",
     "text": [
      "c:\\Users\\Administrator.DAI-PC2\\anaconda3\\Lib\\site-packages\\sumy\\summarizers\\lsa.py:76: UserWarning: Number of words (5) is lower than number of sentences (35). LSA algorithm may not work properly.\n",
      "  warn(message % (words_count, sentences_count))\n"
     ]
    }
   ],
   "source": [
    "# import the class\n",
    "from sumy.summarizers.lsa import LsaSummarizer\n",
    "\n",
    "# initialize the parser\n",
    "my_parser = PlaintextParser.from_string(mtext, Tokenizer('english'))\n",
    "lsa_summarizer = LsaSummarizer()\n",
    "\n",
    "summary = lsa_summarizer(my_parser.document,sentences_count=3)\n",
    "\n",
    "for sent in summary:\n",
    "    print(sent,'\\n')"
   ]
  },
  {
   "cell_type": "code",
   "execution_count": 49,
   "metadata": {},
   "outputs": [
    {
     "name": "stdout",
     "output_type": "stream",
     "text": [
      "It is listed as Endangered on the IUCN Red List of Threatened Species, as its range is thought to have declined by 53% to 68% since the late 1990s. \n",
      "\n",
      "Tigers are also victims of human–wildlife conflict for attacking and preying on livestock in areas, where natural prey is scarce. \n",
      "\n",
      "The species is legally protected in all range countries, which have ratified conservation action plans, established anti-poaching patrols and schemes for monitoring tiger populations. \n",
      "\n"
     ]
    }
   ],
   "source": [
    "from sumy.summarizers.lsa import LsaSummarizer\n",
    "\n",
    "# initialize the parser\n",
    "my_parser = PlaintextParser.from_string(text, Tokenizer('english'))\n",
    "lsa_summarizer = LsaSummarizer()\n",
    "\n",
    "summary = lsa_summarizer(my_parser.document,sentences_count=3)\n",
    "\n",
    "for sent in summary:\n",
    "    print(sent,'\\n')"
   ]
  },
  {
   "cell_type": "code",
   "execution_count": null,
   "metadata": {},
   "outputs": [],
   "source": []
  }
 ],
 "metadata": {
  "kernelspec": {
   "display_name": "base",
   "language": "python",
   "name": "python3"
  },
  "language_info": {
   "codemirror_mode": {
    "name": "ipython",
    "version": 3
   },
   "file_extension": ".py",
   "mimetype": "text/x-python",
   "name": "python",
   "nbconvert_exporter": "python",
   "pygments_lexer": "ipython3",
   "version": "3.11.7"
  }
 },
 "nbformat": 4,
 "nbformat_minor": 2
}
