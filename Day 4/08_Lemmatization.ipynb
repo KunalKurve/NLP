{
  "nbformat": 4,
  "nbformat_minor": 0,
  "metadata": {
    "colab": {
      "provenance": []
    },
    "kernelspec": {
      "name": "python3",
      "display_name": "Python 3"
    },
    "language_info": {
      "name": "python"
    }
  },
  "cells": [
    {
      "cell_type": "code",
      "execution_count": null,
      "metadata": {
        "id": "xwPXLhtjZ8D2"
      },
      "outputs": [],
      "source": [
        "import nltk"
      ]
    },
    {
      "cell_type": "code",
      "source": [
        "nltk.download('punkt')\n",
        "nltk.download('averaged_perceptron_tagger')\n",
        "nltk.download('indian')\n",
        "nltk.download('wordnet')\n"
      ],
      "metadata": {
        "colab": {
          "base_uri": "https://localhost:8080/"
        },
        "id": "ZOPifEDHaf1P",
        "outputId": "2b06cfff-a29d-4336-a86a-99d5749c58d3"
      },
      "execution_count": null,
      "outputs": [
        {
          "output_type": "stream",
          "name": "stderr",
          "text": [
            "[nltk_data] Downloading package punkt to /root/nltk_data...\n",
            "[nltk_data]   Package punkt is already up-to-date!\n",
            "[nltk_data] Downloading package averaged_perceptron_tagger to\n",
            "[nltk_data]     /root/nltk_data...\n",
            "[nltk_data]   Package averaged_perceptron_tagger is already up-to-\n",
            "[nltk_data]       date!\n",
            "[nltk_data] Downloading package indian to /root/nltk_data...\n",
            "[nltk_data]   Package indian is already up-to-date!\n",
            "[nltk_data] Downloading package wordnet to /root/nltk_data...\n"
          ]
        },
        {
          "output_type": "execute_result",
          "data": {
            "text/plain": [
              "True"
            ]
          },
          "metadata": {},
          "execution_count": 8
        }
      ]
    },
    {
      "cell_type": "code",
      "source": [
        "words1 = 'managing', 'management', 'manage', 'managerial', 'managed'\n",
        "words2 = 'worked', 'workable', 'working', 'worked'\n",
        "words3 = 'big', 'bigger', 'biggest'\n",
        "words4 = 'go', 'going', 'went', 'gone'\n",
        "words5 = 'child','children'\n",
        "words6 = 'plays', 'playing', 'played', 'players'"
      ],
      "metadata": {
        "id": "56AvKdKWaht9"
      },
      "execution_count": null,
      "outputs": []
    },
    {
      "cell_type": "code",
      "source": [
        "from nltk.stem import WordNetLemmatizer"
      ],
      "metadata": {
        "id": "O3HQHdTjajac"
      },
      "execution_count": null,
      "outputs": []
    },
    {
      "cell_type": "code",
      "source": [
        "wnl = WordNetLemmatizer()"
      ],
      "metadata": {
        "id": "BfU9Zq83a7Xt"
      },
      "execution_count": null,
      "outputs": []
    },
    {
      "cell_type": "code",
      "source": [
        "print(words1[0], '-->', wnl.lemmatize(words1[0], pos= 'v'))"
      ],
      "metadata": {
        "colab": {
          "base_uri": "https://localhost:8080/"
        },
        "id": "o-Cf6nhza-dt",
        "outputId": "64954511-29db-45de-a37a-7b4ef5187bdb"
      },
      "execution_count": null,
      "outputs": [
        {
          "output_type": "stream",
          "name": "stdout",
          "text": [
            "managing --> manage\n"
          ]
        }
      ]
    },
    {
      "cell_type": "code",
      "source": [
        "print(words4[2], '-->', wnl.lemmatize(words4[2], pos= 'v')) #here i have specify pos because i am just passing a word and not a sentence for it to identify the pos by itself.\n",
        "print(words4[2], '-->', wnl.lemmatize(words4[2], pos= 'a'))\n",
        "print(words4[2], '-->', wnl.lemmatize(words4[2]))"
      ],
      "metadata": {
        "colab": {
          "base_uri": "https://localhost:8080/"
        },
        "id": "XD3KrDYBbFnd",
        "outputId": "c402d0e1-a204-4f9b-ecdc-083eb68008d1"
      },
      "execution_count": null,
      "outputs": [
        {
          "output_type": "stream",
          "name": "stdout",
          "text": [
            "went --> go\n",
            "went --> went\n",
            "went --> went\n"
          ]
        }
      ]
    },
    {
      "cell_type": "code",
      "source": [
        "print(words3[1], '-->', wnl.lemmatize(words3[1], pos= 'a'))"
      ],
      "metadata": {
        "colab": {
          "base_uri": "https://localhost:8080/"
        },
        "id": "HRX-G99sbb4t",
        "outputId": "cf79dacd-6f6d-47be-d53c-d85a0ea880ee"
      },
      "execution_count": null,
      "outputs": [
        {
          "output_type": "stream",
          "name": "stdout",
          "text": [
            "bigger --> big\n"
          ]
        }
      ]
    },
    {
      "cell_type": "code",
      "source": [
        "print(words6[3], '-->', wnl.lemmatize(words6[3], pos= 'n'))"
      ],
      "metadata": {
        "colab": {
          "base_uri": "https://localhost:8080/"
        },
        "id": "3d0CvlZiboqw",
        "outputId": "016f443f-7478-4a11-8119-2456f84baaf8"
      },
      "execution_count": null,
      "outputs": [
        {
          "output_type": "stream",
          "name": "stdout",
          "text": [
            "players --> player\n"
          ]
        }
      ]
    },
    {
      "cell_type": "code",
      "source": [],
      "metadata": {
        "id": "pbxOHJ6eb7KS"
      },
      "execution_count": null,
      "outputs": []
    }
  ]
}