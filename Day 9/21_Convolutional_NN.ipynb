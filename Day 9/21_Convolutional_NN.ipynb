{
  "nbformat": 4,
  "nbformat_minor": 0,
  "metadata": {
    "colab": {
      "provenance": []
    },
    "kernelspec": {
      "name": "python3",
      "display_name": "Python 3"
    },
    "language_info": {
      "name": "python"
    }
  },
  "cells": [
    {
      "cell_type": "code",
      "source": [
        "from google.colab import drive\n",
        "drive.mount('/content/drive')"
      ],
      "metadata": {
        "colab": {
          "base_uri": "https://localhost:8080/"
        },
        "id": "hIoPzEXjciNU",
        "outputId": "71ff6ad3-d325-4ed9-997a-99d99500c3e4"
      },
      "execution_count": 111,
      "outputs": [
        {
          "output_type": "stream",
          "name": "stdout",
          "text": [
            "Drive already mounted at /content/drive; to attempt to forcibly remount, call drive.mount(\"/content/drive\", force_remount=True).\n"
          ]
        }
      ]
    },
    {
      "cell_type": "code",
      "source": [
        "pip install keras_preprocessing"
      ],
      "metadata": {
        "colab": {
          "base_uri": "https://localhost:8080/"
        },
        "id": "ZjY7bYsZc3xX",
        "outputId": "886e499b-6cbc-464a-80ea-b5bb05e8a450"
      },
      "execution_count": 112,
      "outputs": [
        {
          "output_type": "stream",
          "name": "stdout",
          "text": [
            "Requirement already satisfied: keras_preprocessing in /usr/local/lib/python3.10/dist-packages (1.1.2)\n",
            "Requirement already satisfied: numpy>=1.9.1 in /usr/local/lib/python3.10/dist-packages (from keras_preprocessing) (1.25.2)\n",
            "Requirement already satisfied: six>=1.9.0 in /usr/local/lib/python3.10/dist-packages (from keras_preprocessing) (1.16.0)\n"
          ]
        }
      ]
    },
    {
      "cell_type": "code",
      "source": [
        "import nltk\n",
        "nltk.download('stopwords')\n",
        "nltk.download('punkt')\n",
        "import string\n",
        "import re\n",
        "from os import listdir\n",
        "from nltk.corpus import stopwords\n",
        "from keras.preprocessing.text import Tokenizer\n",
        "from keras.models import Sequential\n",
        "from keras.utils import plot_model\n",
        "from keras.layers import Dense,Conv1D,MaxPool1D,Flatten,Embedding\n",
        "from keras.preprocessing.sequence import pad_sequences\n",
        "import numpy as np\n",
        "import pandas as pd\n",
        "import matplotlib.pyplot as plt"
      ],
      "metadata": {
        "colab": {
          "base_uri": "https://localhost:8080/"
        },
        "id": "trcYFuuMcoNe",
        "outputId": "ebf37944-1a6e-4607-cf46-9c647f9ae2ec"
      },
      "execution_count": 113,
      "outputs": [
        {
          "output_type": "stream",
          "name": "stderr",
          "text": [
            "[nltk_data] Downloading package stopwords to /root/nltk_data...\n",
            "[nltk_data]   Package stopwords is already up-to-date!\n",
            "[nltk_data] Downloading package punkt to /root/nltk_data...\n",
            "[nltk_data]   Package punkt is already up-to-date!\n"
          ]
        }
      ]
    },
    {
      "cell_type": "code",
      "source": [
        "# load doc into memory\n",
        "def load_doc(filename):\n",
        "  file = open(filename, 'r')\n",
        "  text = file.read()\n",
        "  file.close()\n",
        "  return text"
      ],
      "metadata": {
        "id": "ETcmeINmdZzX"
      },
      "execution_count": 114,
      "outputs": []
    },
    {
      "cell_type": "code",
      "source": [
        "# turn a doc into clean tokens\n",
        "def clean_doc(doc):\n",
        "  # split into tokens by white space\n",
        "  tokens = doc.split()\n",
        "\n",
        "  # prepare regex for char filtering\n",
        "  re_punc = re.compile('[%s]' % re.escape(string.punctuation))\n",
        "\n",
        "  # remove punctuation from each word\n",
        "  tokens = [re_punc.sub('', w) for w in tokens]\n",
        "\n",
        "  # remove remaining tokens that are not alphabetic\n",
        "  tokens = [word for word in tokens if word.isalpha()]\n",
        "\n",
        "  # filter out stop words\n",
        "  stop_words = set(stopwords.words('english'))\n",
        "  tokens = [w for w in tokens if not w in stop_words]\n",
        "\n",
        "  # filter out short tokens\n",
        "  tokens = [word for word in tokens if len(word)>1]\n",
        "\n",
        "  return tokens"
      ],
      "metadata": {
        "id": "7dTqAqC3dfwF"
      },
      "execution_count": 115,
      "outputs": []
    },
    {
      "cell_type": "code",
      "source": [
        "# load doc, clean and return line of tokens\n",
        "def doc_to_line(filename, vocab):\n",
        "  # load the doc\n",
        "  doc = load_doc(filename)\n",
        "\n",
        "  # clean the doc\n",
        "  tokens = clean_doc(doc)\n",
        "\n",
        "  # filter by vocab\n",
        "  tokens = [w for w in tokens if w in vocab]\n",
        "\n",
        "  return ' '.join(tokens)"
      ],
      "metadata": {
        "id": "2oRiD1w_djC9"
      },
      "execution_count": 116,
      "outputs": []
    },
    {
      "cell_type": "code",
      "source": [
        "# Load all docs in a directory\n",
        "def process_docs(directory,is_train):\n",
        "  documents = []\n",
        "  for filename in listdir(directory):\n",
        "    # skip all reviews in the test set\n",
        "    if is_train and filename.startswith('cv9'):\n",
        "      continue\n",
        "    if not is_train and not filename.startswith('cv9'):\n",
        "      continue\n",
        "    path = directory + '/' + filename\n",
        "    doc = load_doc(path)\n",
        "\n",
        "    tokens = clean_doc(doc)\n",
        "    documents.append(tokens)\n",
        "  return documents"
      ],
      "metadata": {
        "id": "yEx8zC4tdl9M"
      },
      "execution_count": 117,
      "outputs": []
    },
    {
      "cell_type": "code",
      "source": [
        "def load_clean_dataset(is_train):\n",
        "  # load documents\n",
        "  neg  = process_docs('/content/drive/MyDrive/review_polarity/txt_sentoken/neg',is_train)\n",
        "  pos  = process_docs('/content/drive/MyDrive/review_polarity/txt_sentoken/pos',is_train)\n",
        "  docs = neg + pos\n",
        "  # prepare labels\n",
        "  labels = [0 for _ in range(len(neg))] + [1 for _ in range(len(pos))]\n",
        "  return docs, labels"
      ],
      "metadata": {
        "id": "AJiI-4WYdqs5"
      },
      "execution_count": 118,
      "outputs": []
    },
    {
      "cell_type": "code",
      "source": [
        "train, train_labels = load_clean_dataset(True)\n",
        "test, test_labels = load_clean_dataset(False)"
      ],
      "metadata": {
        "id": "yS7-5jIkdvR9"
      },
      "execution_count": 119,
      "outputs": []
    },
    {
      "cell_type": "code",
      "source": [
        "# fit a tokenizer\n",
        "def create_tokenizer(lines):\n",
        "  tokenizer = Tokenizer()\n",
        "  tokenizer.fit_on_texts(lines)\n",
        "  return tokenizer\n"
      ],
      "metadata": {
        "id": "8L3V9ECZepWj"
      },
      "execution_count": 120,
      "outputs": []
    },
    {
      "cell_type": "code",
      "source": [
        "# integer encode and pad documents\n",
        "def encode_docs(tokenizer, max_length, docs):\n",
        "  #integer encode\n",
        "  encoded = tokenizer.texts_to_sequences(docs)\n",
        "  # pad documents\n",
        "  padded = pad_sequences(encoded, maxlen=max_length, padding='post')\n",
        "  return padded"
      ],
      "metadata": {
        "id": "xzvX8E_AevUe"
      },
      "execution_count": 121,
      "outputs": []
    },
    {
      "cell_type": "code",
      "source": [],
      "metadata": {
        "id": "m4EHvb40fbVK"
      },
      "execution_count": 121,
      "outputs": []
    },
    {
      "cell_type": "markdown",
      "source": [
        "## Build the model"
      ],
      "metadata": {
        "id": "rEProXwKf2Wk"
      }
    },
    {
      "cell_type": "code",
      "source": [
        "# define the model\n",
        "def define_model(vocab_size, max_length):\n",
        "  model = Sequential()\n",
        "  model.add(Embedding(vocab_size, 100, input_length=max_length))\n",
        "  model.add(Conv1D(filters=32, kernel_size=8, activation='relu'))\n",
        "  model.add(MaxPool1D(pool_size=2))\n",
        "  model.add(Flatten())\n",
        "  model.add(Dense(10, activation='relu'))\n",
        "  model.add(Dense(1, activation='sigmoid'))\n",
        "  # compile network\n",
        "  model.compile(loss='binary_crossentropy', optimizer='adam', metrics=['accuracy'])\n",
        "  # summarize defined model\n",
        "  model.summary()\n",
        "  return model"
      ],
      "metadata": {
        "id": "rgax9ycBf3qa"
      },
      "execution_count": 122,
      "outputs": []
    },
    {
      "cell_type": "code",
      "source": [
        "train_docs, y_train = load_clean_dataset(True)\n",
        "test_docs, y_test = load_clean_dataset(False)"
      ],
      "metadata": {
        "id": "qFH7sLtggN53"
      },
      "execution_count": 123,
      "outputs": []
    },
    {
      "cell_type": "code",
      "source": [
        "# create tokenizer\n",
        "tokenizer = create_tokenizer(train_docs)"
      ],
      "metadata": {
        "id": "CvDsHFwygoN7"
      },
      "execution_count": 124,
      "outputs": []
    },
    {
      "cell_type": "code",
      "source": [
        "# define vocabulary size\n",
        "vocab_size = len(tokenizer.word_index) + 1\n",
        "print('Vocabulary Size: %d' % vocab_size)"
      ],
      "metadata": {
        "colab": {
          "base_uri": "https://localhost:8080/"
        },
        "id": "CFXp4zVih_Id",
        "outputId": "5fb4f284-dbd0-4493-fa7e-f11f9118e1f6"
      },
      "execution_count": 125,
      "outputs": [
        {
          "output_type": "stream",
          "name": "stdout",
          "text": [
            "Vocabulary Size: 44277\n"
          ]
        }
      ]
    },
    {
      "cell_type": "code",
      "source": [
        "# calculate the maximum sequence length\n",
        "max_length = max([len(s) for s in train_docs])\n",
        "print('Max Sequence Length: %d' % max_length)"
      ],
      "metadata": {
        "colab": {
          "base_uri": "https://localhost:8080/"
        },
        "id": "oUZCa4qTiT3S",
        "outputId": "fbd29d7c-8267-4124-da12-64625fbeb7a7"
      },
      "execution_count": 126,
      "outputs": [
        {
          "output_type": "stream",
          "name": "stdout",
          "text": [
            "Max Sequence Length: 1380\n"
          ]
        }
      ]
    },
    {
      "cell_type": "code",
      "source": [
        "# encode data\n",
        "X_train = encode_docs(tokenizer, max_length, train_docs)\n",
        "X_test = encode_docs(tokenizer, max_length, test_docs)"
      ],
      "metadata": {
        "id": "Kbt64DZGiikS"
      },
      "execution_count": 127,
      "outputs": []
    },
    {
      "cell_type": "code",
      "source": [
        "X_train.shape, X_test.shape"
      ],
      "metadata": {
        "colab": {
          "base_uri": "https://localhost:8080/"
        },
        "id": "QCEzA7XrjQYH",
        "outputId": "f5f53005-6bf7-408b-9d93-8cecef8848af"
      },
      "execution_count": 128,
      "outputs": [
        {
          "output_type": "execute_result",
          "data": {
            "text/plain": [
              "((1810, 1380), (200, 1380))"
            ]
          },
          "metadata": {},
          "execution_count": 128
        }
      ]
    },
    {
      "cell_type": "code",
      "source": [
        "X_train"
      ],
      "metadata": {
        "colab": {
          "base_uri": "https://localhost:8080/"
        },
        "id": "-SokvvPPjnwf",
        "outputId": "47d51526-8ee5-4078-8b97-79ed9150b574"
      },
      "execution_count": 129,
      "outputs": [
        {
          "output_type": "execute_result",
          "data": {
            "text/plain": [
              "array([[  818,  1971, 25868, ...,     0,     0,     0],\n",
              "       [   89,   334,    97, ...,     0,     0,     0],\n",
              "       [ 2228,   152,     3, ...,     0,     0,     0],\n",
              "       ...,\n",
              "       [10024,  8535, 13460, ...,     0,     0,     0],\n",
              "       [  637,  9934,  2368, ...,     0,     0,     0],\n",
              "       [ 1556,   125,  2444, ...,     0,     0,     0]], dtype=int32)"
            ]
          },
          "metadata": {},
          "execution_count": 129
        }
      ]
    },
    {
      "cell_type": "markdown",
      "source": [
        "## Train the model"
      ],
      "metadata": {
        "id": "gGYynhQXkHD6"
      }
    },
    {
      "cell_type": "code",
      "source": [
        "# fit the network\n",
        "model = define_model(vocab_size, max_length)\n"
      ],
      "metadata": {
        "colab": {
          "base_uri": "https://localhost:8080/"
        },
        "id": "GD8t53fVkFaM",
        "outputId": "fcd24b89-e0d0-4191-db14-2bae7dea5289"
      },
      "execution_count": 130,
      "outputs": [
        {
          "output_type": "stream",
          "name": "stdout",
          "text": [
            "Model: \"sequential_3\"\n",
            "_________________________________________________________________\n",
            " Layer (type)                Output Shape              Param #   \n",
            "=================================================================\n",
            " embedding_3 (Embedding)     (None, 1380, 100)         4427700   \n",
            "                                                                 \n",
            " conv1d_3 (Conv1D)           (None, 1373, 32)          25632     \n",
            "                                                                 \n",
            " max_pooling1d_3 (MaxPoolin  (None, 686, 32)           0         \n",
            " g1D)                                                            \n",
            "                                                                 \n",
            " flatten_3 (Flatten)         (None, 21952)             0         \n",
            "                                                                 \n",
            " dense_6 (Dense)             (None, 10)                219530    \n",
            "                                                                 \n",
            " dense_7 (Dense)             (None, 1)                 11        \n",
            "                                                                 \n",
            "=================================================================\n",
            "Total params: 4672873 (17.83 MB)\n",
            "Trainable params: 4672873 (17.83 MB)\n",
            "Non-trainable params: 0 (0.00 Byte)\n",
            "_________________________________________________________________\n"
          ]
        }
      ]
    },
    {
      "cell_type": "code",
      "source": [
        "plot_model(model, show_layer_activations=True, show_shapes=True, show_layer_names=True)"
      ],
      "metadata": {
        "colab": {
          "base_uri": "https://localhost:8080/",
          "height": 754
        },
        "id": "_FQ-ktwIkTSO",
        "outputId": "0d0ca958-1a8f-4eb3-ff58-0e6174420cf5"
      },
      "execution_count": 131,
      "outputs": [
        {
          "output_type": "execute_result",
          "data": {
            "image/png": "[encoded data removed]",
            "text/plain": [
              "<IPython.core.display.Image object>"
            ]
          },
          "metadata": {},
          "execution_count": 131
        }
      ]
    },
    {
      "cell_type": "code",
      "source": [
        "model.fit(X_train, np.array(y_train), epochs=10,batch_size=10)"
      ],
      "metadata": {
        "colab": {
          "base_uri": "https://localhost:8080/"
        },
        "id": "rvX758f0kt9p",
        "outputId": "5fdc415f-2535-46b3-a695-58342ac566e2"
      },
      "execution_count": 132,
      "outputs": [
        {
          "output_type": "stream",
          "name": "stdout",
          "text": [
            "Epoch 1/10\n",
            "181/181 [==============================] - 37s 195ms/step - loss: 0.6842 - accuracy: 0.5276\n",
            "Epoch 2/10\n",
            "181/181 [==============================] - 24s 134ms/step - loss: 0.2895 - accuracy: 0.8829\n",
            "Epoch 3/10\n",
            "181/181 [==============================] - 24s 132ms/step - loss: 0.0102 - accuracy: 0.9983\n",
            "Epoch 4/10\n",
            "181/181 [==============================] - 24s 133ms/step - loss: 0.0019 - accuracy: 0.9994\n",
            "Epoch 5/10\n",
            "181/181 [==============================] - 25s 138ms/step - loss: 0.0010 - accuracy: 1.0000\n",
            "Epoch 6/10\n",
            "181/181 [==============================] - 26s 144ms/step - loss: 5.9201e-04 - accuracy: 1.0000\n",
            "Epoch 7/10\n",
            "181/181 [==============================] - 24s 134ms/step - loss: 3.6362e-04 - accuracy: 1.0000\n",
            "Epoch 8/10\n",
            "181/181 [==============================] - 22s 124ms/step - loss: 2.4492e-04 - accuracy: 1.0000\n",
            "Epoch 9/10\n",
            "181/181 [==============================] - 24s 135ms/step - loss: 1.6812e-04 - accuracy: 1.0000\n",
            "Epoch 10/10\n",
            "181/181 [==============================] - 22s 124ms/step - loss: 1.1688e-04 - accuracy: 1.0000\n"
          ]
        },
        {
          "output_type": "execute_result",
          "data": {
            "text/plain": [
              "<keras.src.callbacks.History at 0x7f496d6832b0>"
            ]
          },
          "metadata": {},
          "execution_count": 132
        }
      ]
    },
    {
      "cell_type": "code",
      "source": [
        "model.evaluate(X_test, np.array(y_test),batch_size=1)"
      ],
      "metadata": {
        "colab": {
          "base_uri": "https://localhost:8080/"
        },
        "id": "eizBlmSUlHH5",
        "outputId": "a38d7ba1-fd0b-4836-e57b-17032e8963e3"
      },
      "execution_count": 133,
      "outputs": [
        {
          "output_type": "stream",
          "name": "stdout",
          "text": [
            "200/200 [==============================] - 1s 4ms/step - loss: 0.4315 - accuracy: 0.8650\n"
          ]
        },
        {
          "output_type": "execute_result",
          "data": {
            "text/plain": [
              "[0.4315016567707062, 0.8650000095367432]"
            ]
          },
          "metadata": {},
          "execution_count": 133
        }
      ]
    },
    {
      "cell_type": "code",
      "source": [
        "# Test positive text\n",
        "text1 = 'Best movie ever! It was great, I will definitely recommend it.'\n",
        "text2 = 'This is a bad movie. Please dont watch it.'"
      ],
      "metadata": {
        "id": "CzMU40Dt0AVW"
      },
      "execution_count": 142,
      "outputs": []
    },
    {
      "cell_type": "code",
      "source": [
        "# classify a review as negative or positive\n",
        "def predict_sentiment(review):\n",
        "  # clean the data\n",
        "  tokens = clean_doc(review)\n",
        "  # map tokens to ints\n",
        "  line = ' '.join(tokens)\n",
        "  encoded = encode_docs(tokenizer, max_length, [line])\n",
        "  # predict sentiment\n",
        "  yhat = model.predict(encoded)\n",
        "  precent_pos = yhat[0,0]\n",
        "  if round(precent_pos) == 0:\n",
        "    return (1-precent_pos), 'NEGATIVE'\n",
        "  return precent_pos, 'POSITIVE'"
      ],
      "metadata": {
        "id": "ZjIn37RMxQ5t"
      },
      "execution_count": 143,
      "outputs": []
    },
    {
      "cell_type": "code",
      "source": [
        "predict_sentiment(text1)"
      ],
      "metadata": {
        "colab": {
          "base_uri": "https://localhost:8080/"
        },
        "id": "WfHgASDExQ3A",
        "outputId": "fc93cc4f-949a-4ffc-ec35-dd1a0d4d1289"
      },
      "execution_count": 140,
      "outputs": [
        {
          "output_type": "stream",
          "name": "stdout",
          "text": [
            "1/1 [==============================] - 0s 22ms/step\n"
          ]
        },
        {
          "output_type": "execute_result",
          "data": {
            "text/plain": [
              "(0.53731769323349, 'NEGATIVE')"
            ]
          },
          "metadata": {},
          "execution_count": 140
        }
      ]
    },
    {
      "cell_type": "code",
      "source": [
        "predict_sentiment(text2)"
      ],
      "metadata": {
        "colab": {
          "base_uri": "https://localhost:8080/"
        },
        "id": "saTcy6OxxQzm",
        "outputId": "bd18d7a9-1ca4-4b91-a2d1-1228aa71233a"
      },
      "execution_count": 137,
      "outputs": [
        {
          "output_type": "stream",
          "name": "stdout",
          "text": [
            "1/1 [==============================] - 0s 22ms/step\n"
          ]
        },
        {
          "output_type": "execute_result",
          "data": {
            "text/plain": [
              "(0.6189910769462585, 'NEGATIVE')"
            ]
          },
          "metadata": {},
          "execution_count": 137
        }
      ]
    }
  ]
}