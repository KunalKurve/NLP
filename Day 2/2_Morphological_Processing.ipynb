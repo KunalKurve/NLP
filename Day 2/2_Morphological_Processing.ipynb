{
  "cells": [
    {
      "cell_type": "code",
      "execution_count": null,
      "metadata": {
        "colab": {
          "background_save": true,
          "base_uri": "https://localhost:8080/"
        },
        "id": "TmZFZUHBibgJ",
        "outputId": "a1287bac-bd1f-491c-f13a-6d31b3c53e72"
      },
      "outputs": [
        {
          "name": "stdout",
          "output_type": "stream",
          "text": [
            "Collecting morfessor\n",
            "  Using cached Morfessor-2.0.6-py3-none-any.whl (35 kB)\n",
            "Collecting polyglot\n",
            "  Using cached polyglot-16.7.4-py2.py3-none-any.whl\n",
            "Collecting pyICU\n",
            "  Using cached PyICU-2.13.1.tar.gz (262 kB)\n",
            "  Installing build dependencies ... \u001b[?25l\u001b[?25hdone\n",
            "  Getting requirements to build wheel ... \u001b[?25l\u001b[?25hdone\n",
            "  Preparing metadata (pyproject.toml) ... \u001b[?25l\u001b[?25hdone\n",
            "Collecting pycld2\n",
            "  Using cached pycld2-0.41.tar.gz (41.4 MB)\n",
            "  Preparing metadata (setup.py) ... \u001b[?25l\u001b[?25hdone\n",
            "Building wheels for collected packages: pyICU, pycld2\n",
            "  Building wheel for pyICU (pyproject.toml) ... \u001b[?25l\u001b[?25hdone\n",
            "  Created wheel for pyICU: filename=PyICU-2.13.1-cp310-cp310-linux_x86_64.whl size=1801401 sha256=8ab4e7412429127e82f32500533e6dac76897d0ca24c05ebbabe92cc8cfb7cf9\n",
            "  Stored in directory: /root/.cache/pip/wheels/8e/45/08/f4bc505e31eb7bb779d493226921abf18cf55ed30142e70eae\n",
            "  Building wheel for pycld2 (setup.py) ... \u001b[?25l\u001b[?25hdone\n",
            "  Created wheel for pycld2: filename=pycld2-0.41-cp310-cp310-linux_x86_64.whl size=9904037 sha256=f42a1200b5285aac65d36ee0b0ea2630edb05f1ee56447b4cacd8e9bc7e19944\n",
            "  Stored in directory: /root/.cache/pip/wheels/be/81/31/240c89c845e008a93d98542325270007de595bfd356eb0b06c\n",
            "Successfully built pyICU pycld2\n",
            "Installing collected packages: pyICU, pycld2, polyglot, morfessor\n",
            "Successfully installed morfessor-2.0.6 polyglot-16.7.4 pyICU-2.13.1 pycld2-0.41\n"
          ]
        }
      ],
      "source": [
        "pip install morfessor polyglot pyICU pycld2 -U"
      ]
    },
    {
      "cell_type": "code",
      "execution_count": null,
      "metadata": {
        "id": "zWpfMiFRigzP",
        "colab": {
          "base_uri": "https://localhost:8080/"
        },
        "outputId": "fa3b08af-c54c-4249-e15a-6e93732e0b8f"
      },
      "outputs": [
        {
          "output_type": "stream",
          "name": "stdout",
          "text": [
            "[polyglot_data] Downloading package morph2.en to\n",
            "[polyglot_data]     /root/polyglot_data...\n",
            "[polyglot_data] Downloading package morph2.mr to\n",
            "[polyglot_data]     /root/polyglot_data...\n"
          ]
        }
      ],
      "source": [
        "%%bash\n",
        "polyglot download morph2.en morph2.mr"
      ]
    },
    {
      "cell_type": "code",
      "execution_count": null,
      "metadata": {
        "colab": {
          "base_uri": "https://localhost:8080/"
        },
        "id": "VzzpWDVXj0Ib",
        "outputId": "1bb5e51c-9b65-417f-989e-7885d8fd8ca4"
      },
      "outputs": [
        {
          "output_type": "stream",
          "name": "stdout",
          "text": [
            "  1. Kapampangan                2. Italian                    3. Upper Sorbian            \n",
            "  4. Sakha                      5. Hindi                      6. French                   \n",
            "  7. Spanish; Castilian         8. Vietnamese                 9. Arabic                   \n",
            " 10. Macedonian                11. Pashto, Pushto            12. Bosnian-Croatian-Serbian \n",
            " 13. Egyptian Arabic           14. Norwegian Nynorsk         15. Sundanese                \n",
            " 16. Sicilian                  17. Azerbaijani               18. Bulgarian                \n",
            " 19. Yoruba                    20. Tajik                     21. Georgian                 \n",
            " 22. Tatar                     23. Galician                  24. Malagasy                 \n",
            " 25. Uighur, Uyghur            26. Amharic                   27. Venetian                 \n",
            " 28. Yiddish                   29. Norwegian                 30. Alemannic                \n",
            " 31. Estonian                  32. West Flemish              33. Divehi; Dhivehi; Mald... \n",
            " 34. Japanese                  35. Ilokano                   36. Haitian; Haitian Creole  \n",
            " 37. Belarusian                38. Greek, Modern             39. Ossetian, Ossetic        \n",
            " 40. Welsh                     41. Malayalam                 42. Albanian                 \n",
            " 43. Marathi (Marāṭhī)         44. Armenian                  45. Slovene                  \n",
            " 46. Korean                    47. Breton                    48. Irish                    \n",
            " 49. Luxembourgish, Letzeb...  50. Bengali                   51. Serbian                  \n",
            " 52. Fiji Hindi                53. Javanese                  54. Finnish                  \n",
            " 55. Gan Chinese               56. Kirghiz, Kyrgyz           57. Catalan; Valencian       \n",
            " 58. Quechua                   59. Croatian                  60. Dutch                    \n",
            " 61. Swedish                   62. Ido                       63. Tagalog                  \n",
            " 64. Sanskrit (Saṁskṛta)       65. Piedmontese language      66. Asturian                 \n",
            " 67. Danish                    68. Cebuano                   69. Western Frisian          \n",
            " 70. Kannada                   71. Scots                     72. Maltese                  \n",
            " 73. Swahili                   74. Limburgish, Limburgan...  75. Waray-Waray              \n",
            " 76. Lombard language          77. Uzbek                     78. Kurdish                  \n",
            " 79. Latvian                   80. Burmese                   81. Aragonese                \n",
            " 82. Volapük                   83. Northern Sami             84. Faroese                  \n",
            " 85. Kazakh                    86. Telugu                    87. Ukrainian                \n",
            " 88. Assamese                  89. Chuvash                   90. Silesian                 \n",
            " 91. Turkmen                   92. Romanian, Moldavian, ...  93. Persian                  \n",
            " 94. Tibetan Standard, Tib...  95. Latin                     96. Slovak                   \n",
            " 97. Sinhala, Sinhalese        98. Bavarian                  99. Icelandic                \n",
            "100. Mongolian                101. Walloon                  102. Portuguese               \n",
            "103. Urdu                     104. Gujarati                 105. Manx                     \n",
            "106. Tamil                    107. Khmer                    108. English                  \n",
            "109. Malay                    110. Chechen                  111. Bishnupriya Manipuri     \n",
            "112. Afrikaans                113. Basque                   114. Polish                   \n",
            "115. German                   116. Esperanto                117. Indonesian               \n",
            "118. Occitan                  119. Chinese                  120. Czech                    \n",
            "121. Hebrew (modern)          122. Romansh                  123. Lithuanian               \n",
            "124. Turkish                  125. Nepali                   126. Bosnian                  \n",
            "127. Interlingua              128. Zazaki                   129. Oriya                    \n",
            "130. Hungarian                131. Scottish Gaelic; Gaelic  132. Bashkir                  \n",
            "133. Thai                     134. Panjabi, Punjabi         135. Russian                  \n",
            "\n"
          ]
        }
      ],
      "source": [
        "from polyglot.downloader import downloader\n",
        "print(downloader.supported_languages_table('morph2'))"
      ]
    },
    {
      "cell_type": "code",
      "execution_count": null,
      "metadata": {
        "id": "KQNqIjf2lSOA"
      },
      "outputs": [],
      "source": [
        "from polyglot.text import Text, Word"
      ]
    },
    {
      "cell_type": "code",
      "execution_count": null,
      "metadata": {
        "id": "07p6IZ7NlpTb"
      },
      "outputs": [],
      "source": [
        "words = ['cats', 'computing', 'association', 'programming', 'leadership', 'miscommunication',\n",
        "         'identifiable', 'psychologically', 'engineering', 'tabular', 'realisic', 'colorfulness']"
      ]
    },
    {
      "cell_type": "code",
      "execution_count": null,
      "metadata": {
        "colab": {
          "base_uri": "https://localhost:8080/"
        },
        "id": "5MvhvvNBmLz0",
        "outputId": "0220f5b2-7776-45ef-c9c4-8d783c80f81e"
      },
      "outputs": [
        {
          "output_type": "stream",
          "name": "stdout",
          "text": [
            "cats \t\t ['cat', 's']\n",
            "computing \t\t ['com', 'put', 'ing']\n",
            "association \t\t ['associ', 'ation']\n",
            "programming \t\t ['program', 'ming']\n",
            "leadership \t\t ['leader', 'ship']\n",
            "miscommunication \t\t ['mis', 'communication']\n",
            "identifiable \t\t ['identif', 'i', 'able']\n",
            "psychologically \t\t ['psycho', 'logical', 'ly']\n",
            "engineering \t\t ['engine', 'er', 'ing']\n",
            "tabular \t\t ['tab', 'ular']\n",
            "realisic \t\t ['real', 'is', 'ic']\n",
            "colorfulness \t\t ['color', 'ful', 'ness']\n"
          ]
        }
      ],
      "source": [
        "for w in words:\n",
        "  w = Word(w, language='en')\n",
        "  print(w, '\\t\\t', w.morphemes)"
      ]
    },
    {
      "cell_type": "code",
      "execution_count": null,
      "metadata": {
        "id": "wHadzmMcmpbm",
        "colab": {
          "base_uri": "https://localhost:8080/"
        },
        "outputId": "dea8c13a-625c-4a85-92b8-fc6800ab2b1c"
      },
      "outputs": [
        {
          "output_type": "stream",
          "name": "stdout",
          "text": [
            "प्रमाणिकरण \t\t ['प्रमाण', 'िकरण']\n",
            "जलविद्युत \t\t ['जल', 'विद्युत']\n",
            "राजशास्त्र \t\t ['राज', 'शास्त्र']\n",
            "जलप्राधिकरण \t\t ['जल', 'प्राधिकरण']\n",
            "मानशास्त्रीय \t\t ['मान', 'शास्त्र', 'ीय']\n",
            "रविवार \t\t ['रवि', 'वार']\n",
            "महाद्वीप \t\t ['महा', 'द्वीप']\n"
          ]
        }
      ],
      "source": [
        "words = ['प्रमाणिकरण', 'जलविद्युत', 'राजशास्त्र', 'जलप्राधिकरण', 'मानशास्त्रीय', 'रविवार', 'महाद्वीप']\n",
        "for w in words:\n",
        "  w = Word(w, language='mr')\n",
        "  print(w, '\\t\\t', w.morphemes)"
      ]
    },
    {
      "cell_type": "code",
      "source": [
        "blob = \"Wewillmeettoday.\"\n",
        "text = Text(blob)\n",
        "text.language = 'en'"
      ],
      "metadata": {
        "id": "FW-2sby21AqH"
      },
      "execution_count": null,
      "outputs": []
    },
    {
      "cell_type": "code",
      "source": [
        "blob  # blob means raw text"
      ],
      "metadata": {
        "colab": {
          "base_uri": "https://localhost:8080/",
          "height": 35
        },
        "id": "X7AGxubU1Do1",
        "outputId": "066af898-289f-4203-d04b-4c65c5052c10"
      },
      "execution_count": null,
      "outputs": [
        {
          "output_type": "execute_result",
          "data": {
            "text/plain": [
              "'Wewillmeettoday.'"
            ],
            "application/vnd.google.colaboratory.intrinsic+json": {
              "type": "string"
            }
          },
          "metadata": {},
          "execution_count": 14
        }
      ]
    },
    {
      "cell_type": "code",
      "source": [
        "text"
      ],
      "metadata": {
        "colab": {
          "base_uri": "https://localhost:8080/"
        },
        "id": "6ruir44O1GR2",
        "outputId": "821cc58f-57bd-4626-d1f7-2e39effeeaf5"
      },
      "execution_count": null,
      "outputs": [
        {
          "output_type": "execute_result",
          "data": {
            "text/plain": [
              "Text(\"Wewillmeettoday.\")"
            ]
          },
          "metadata": {},
          "execution_count": 15
        }
      ]
    },
    {
      "cell_type": "code",
      "source": [
        "text.morphemes"
      ],
      "metadata": {
        "colab": {
          "base_uri": "https://localhost:8080/"
        },
        "id": "UyInhvup1IcY",
        "outputId": "280ee451-b157-46f1-9788-fe22daec03f8"
      },
      "execution_count": null,
      "outputs": [
        {
          "output_type": "execute_result",
          "data": {
            "text/plain": [
              "WordList(['We', 'will', 'meet', 'to', 'day', '.'])"
            ]
          },
          "metadata": {},
          "execution_count": 16
        }
      ]
    },
    {
      "cell_type": "code",
      "source": [
        "from nltk import pos_tag\n",
        "from nltk.tokenize import word_tokenize\n",
        "import nltk\n",
        "# nltk.download('punkt')"
      ],
      "metadata": {
        "colab": {
          "base_uri": "https://localhost:8080/"
        },
        "id": "k29lDwuW1K1F",
        "outputId": "1c8c5ef7-91e0-4aea-abe4-be14729330c3"
      },
      "execution_count": null,
      "outputs": [
        {
          "output_type": "stream",
          "name": "stderr",
          "text": [
            "[nltk_data] Downloading package punkt to /root/nltk_data...\n",
            "[nltk_data]   Unzipping tokenizers/punkt.zip.\n"
          ]
        },
        {
          "output_type": "execute_result",
          "data": {
            "text/plain": [
              "True"
            ]
          },
          "metadata": {},
          "execution_count": 33
        }
      ]
    },
    {
      "cell_type": "code",
      "source": [
        "text = \"Venus is the second planet from the Sun. It is a terrestrial planet and is the closest in mass and size to its orbital neighbour Earth. Venus is notable for having the densest atmosphere of the terrestrial planets, composed mostly of carbon dioxide with a thick, global sulfuric acid cloud cover. At the surface it has a mean temperature of 737 K (464 °C; 867 °F) and a pressure of 92 times that of Earth's at sea level. These extreme conditions compress carbon dioxide into a supercritical state close to Venus's surface. \""
      ],
      "metadata": {
        "id": "K1uY9u-B4u1m"
      },
      "execution_count": null,
      "outputs": []
    },
    {
      "cell_type": "code",
      "source": [
        "text"
      ],
      "metadata": {
        "colab": {
          "base_uri": "https://localhost:8080/",
          "height": 70
        },
        "id": "dDhxYHrj5AtK",
        "outputId": "e4b9d554-4655-4a85-94f6-2f5348b05423"
      },
      "execution_count": null,
      "outputs": [
        {
          "output_type": "execute_result",
          "data": {
            "text/plain": [
              "\"Venus is the second planet from the Sun. It is a terrestrial planet and is the closest in mass and size to its orbital neighbour Earth. Venus is notable for having the densest atmosphere of the terrestrial planets, composed mostly of carbon dioxide with a thick, global sulfuric acid cloud cover. At the surface it has a mean temperature of 737 K (464 °C; 867 °F) and a pressure of 92 times that of Earth's at sea level. These extreme conditions compress carbon dioxide into a supercritical state close to Venus's surface. \""
            ],
            "application/vnd.google.colaboratory.intrinsic+json": {
              "type": "string"
            }
          },
          "metadata": {},
          "execution_count": 23
        }
      ]
    },
    {
      "cell_type": "code",
      "source": [
        "tags = pos_tag(word_tokenize(text))"
      ],
      "metadata": {
        "id": "yQhC5pA95APe"
      },
      "execution_count": null,
      "outputs": []
    },
    {
      "cell_type": "code",
      "source": [
        "tags"
      ],
      "metadata": {
        "colab": {
          "base_uri": "https://localhost:8080/"
        },
        "id": "imWqA6WA5CV3",
        "outputId": "4ba97d4d-6cab-47ba-b88f-babb97c5a90e"
      },
      "execution_count": null,
      "outputs": [
        {
          "output_type": "execute_result",
          "data": {
            "text/plain": [
              "[('Venus', 'NNP'),\n",
              " ('is', 'VBZ'),\n",
              " ('the', 'DT'),\n",
              " ('second', 'JJ'),\n",
              " ('planet', 'NN'),\n",
              " ('from', 'IN'),\n",
              " ('the', 'DT'),\n",
              " ('Sun', 'NNP'),\n",
              " ('.', '.'),\n",
              " ('It', 'PRP'),\n",
              " ('is', 'VBZ'),\n",
              " ('a', 'DT'),\n",
              " ('terrestrial', 'JJ'),\n",
              " ('planet', 'NN'),\n",
              " ('and', 'CC'),\n",
              " ('is', 'VBZ'),\n",
              " ('the', 'DT'),\n",
              " ('closest', 'JJS'),\n",
              " ('in', 'IN'),\n",
              " ('mass', 'NN'),\n",
              " ('and', 'CC'),\n",
              " ('size', 'NN'),\n",
              " ('to', 'TO'),\n",
              " ('its', 'PRP$'),\n",
              " ('orbital', 'JJ'),\n",
              " ('neighbour', 'JJ'),\n",
              " ('Earth', 'NN'),\n",
              " ('.', '.'),\n",
              " ('Venus', 'NNP'),\n",
              " ('is', 'VBZ'),\n",
              " ('notable', 'JJ'),\n",
              " ('for', 'IN'),\n",
              " ('having', 'VBG'),\n",
              " ('the', 'DT'),\n",
              " ('densest', 'JJS'),\n",
              " ('atmosphere', 'NN'),\n",
              " ('of', 'IN'),\n",
              " ('the', 'DT'),\n",
              " ('terrestrial', 'JJ'),\n",
              " ('planets', 'NNS'),\n",
              " (',', ','),\n",
              " ('composed', 'VBD'),\n",
              " ('mostly', 'RB'),\n",
              " ('of', 'IN'),\n",
              " ('carbon', 'NN'),\n",
              " ('dioxide', 'NN'),\n",
              " ('with', 'IN'),\n",
              " ('a', 'DT'),\n",
              " ('thick', 'NN'),\n",
              " (',', ','),\n",
              " ('global', 'JJ'),\n",
              " ('sulfuric', 'JJ'),\n",
              " ('acid', 'NN'),\n",
              " ('cloud', 'NN'),\n",
              " ('cover', 'NN'),\n",
              " ('.', '.'),\n",
              " ('At', 'IN'),\n",
              " ('the', 'DT'),\n",
              " ('surface', 'NN'),\n",
              " ('it', 'PRP'),\n",
              " ('has', 'VBZ'),\n",
              " ('a', 'DT'),\n",
              " ('mean', 'JJ'),\n",
              " ('temperature', 'NN'),\n",
              " ('of', 'IN'),\n",
              " ('737', 'CD'),\n",
              " ('K', 'NNP'),\n",
              " ('(', '('),\n",
              " ('464', 'CD'),\n",
              " ('°C', 'NN'),\n",
              " (';', ':'),\n",
              " ('867', 'CD'),\n",
              " ('°F', 'NN'),\n",
              " (')', ')'),\n",
              " ('and', 'CC'),\n",
              " ('a', 'DT'),\n",
              " ('pressure', 'NN'),\n",
              " ('of', 'IN'),\n",
              " ('92', 'CD'),\n",
              " ('times', 'NNS'),\n",
              " ('that', 'IN'),\n",
              " ('of', 'IN'),\n",
              " ('Earth', 'NNP'),\n",
              " (\"'s\", 'POS'),\n",
              " ('at', 'IN'),\n",
              " ('sea', 'NN'),\n",
              " ('level', 'NN'),\n",
              " ('.', '.'),\n",
              " ('These', 'DT'),\n",
              " ('extreme', 'JJ'),\n",
              " ('conditions', 'NNS'),\n",
              " ('compress', 'VBP'),\n",
              " ('carbon', 'NN'),\n",
              " ('dioxide', 'NN'),\n",
              " ('into', 'IN'),\n",
              " ('a', 'DT'),\n",
              " ('supercritical', 'JJ'),\n",
              " ('state', 'NN'),\n",
              " ('close', 'NN'),\n",
              " ('to', 'TO'),\n",
              " ('Venus', 'NNP'),\n",
              " (\"'s\", 'POS'),\n",
              " ('surface', 'NN'),\n",
              " ('.', '.')]"
            ]
          },
          "metadata": {},
          "execution_count": 35
        }
      ]
    },
    {
      "cell_type": "markdown",
      "source": [
        "Extract only nouns from this text"
      ],
      "metadata": {
        "id": "RSyl6MT96AQr"
      }
    },
    {
      "cell_type": "code",
      "source": [
        "# nouns = [t[0] for t in tags if t[1] == 'NN' or t[1] == 'NNS'or t[1] == 'NNP'or t[1] == 'NNPS']\n",
        "nouns = [t[0] for t in tags if t[1].startswith('N')]\n",
        "nouns"
      ],
      "metadata": {
        "colab": {
          "base_uri": "https://localhost:8080/"
        },
        "id": "NgnwknnM6CRc",
        "outputId": "0a0dac0d-3841-4d7a-e0f1-592cc31c6429"
      },
      "execution_count": null,
      "outputs": [
        {
          "output_type": "execute_result",
          "data": {
            "text/plain": [
              "['Venus',\n",
              " 'planet',\n",
              " 'Sun',\n",
              " 'planet',\n",
              " 'mass',\n",
              " 'size',\n",
              " 'Earth',\n",
              " 'Venus',\n",
              " 'atmosphere',\n",
              " 'planets',\n",
              " 'carbon',\n",
              " 'dioxide',\n",
              " 'thick',\n",
              " 'acid',\n",
              " 'cloud',\n",
              " 'cover',\n",
              " 'surface',\n",
              " 'temperature',\n",
              " 'K',\n",
              " '°C',\n",
              " '°F',\n",
              " 'pressure',\n",
              " 'times',\n",
              " 'Earth',\n",
              " 'sea',\n",
              " 'level',\n",
              " 'conditions',\n",
              " 'carbon',\n",
              " 'dioxide',\n",
              " 'state',\n",
              " 'close',\n",
              " 'Venus',\n",
              " 'surface']"
            ]
          },
          "metadata": {},
          "execution_count": 39
        }
      ]
    },
    {
      "cell_type": "code",
      "source": [
        "adj_noun_pair = [[tags[i][0], tags[i+1][0]]  for i in range(0, len(tags)) if tags[i][1].startswith('J') and tags[i+1][1].startswith('N')]\n",
        "adj_noun_pair"
      ],
      "metadata": {
        "colab": {
          "base_uri": "https://localhost:8080/"
        },
        "id": "pfQK_Jym6goQ",
        "outputId": "d36d46cb-b5fb-48dd-feeb-8881f0b83635"
      },
      "execution_count": null,
      "outputs": [
        {
          "output_type": "execute_result",
          "data": {
            "text/plain": [
              "[['second', 'planet'],\n",
              " ['terrestrial', 'planet'],\n",
              " ['neighbour', 'Earth'],\n",
              " ['densest', 'atmosphere'],\n",
              " ['terrestrial', 'planets'],\n",
              " ['sulfuric', 'acid'],\n",
              " ['mean', 'temperature'],\n",
              " ['extreme', 'conditions'],\n",
              " ['supercritical', 'state']]"
            ]
          },
          "metadata": {},
          "execution_count": 40
        }
      ]
    },
    {
      "cell_type": "code",
      "source": [],
      "metadata": {
        "id": "BOqEeOgh-o2H"
      },
      "execution_count": null,
      "outputs": []
    }
  ],
  "metadata": {
    "colab": {
      "provenance": []
    },
    "kernelspec": {
      "display_name": "Python 3",
      "name": "python3"
    },
    "language_info": {
      "name": "python"
    }
  },
  "nbformat": 4,
  "nbformat_minor": 0
}