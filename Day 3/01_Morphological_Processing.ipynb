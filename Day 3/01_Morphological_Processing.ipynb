{
  "cells": [
    {
      "cell_type": "code",
      "execution_count": 1,
      "metadata": {
        "colab": {
          "background_save": true,
          "base_uri": "https://localhost:8080/"
        },
        "id": "TmZFZUHBibgJ",
        "outputId": "a1287bac-bd1f-491c-f13a-6d31b3c53e72"
      },
      "outputs": [
        {
          "name": "stdout",
          "output_type": "stream",
          "text": [
            "Defaulting to user installation because normal site-packages is not writeable\n",
            "Requirement already satisfied: morfessor in /home/pgdai/.local/lib/python3.10/site-packages (2.0.6)\n",
            "Requirement already satisfied: polyglot in /home/pgdai/.local/lib/python3.10/site-packages (16.7.4)\n",
            "Collecting pyICU\n",
            "  Using cached PyICU-2.13.1.tar.gz (262 kB)\n",
            "  Installing build dependencies ... \u001b[?25ldone\n",
            "\u001b[?25h  Getting requirements to build wheel ... \u001b[?25lerror\n",
            "  \u001b[1;31merror\u001b[0m: \u001b[1msubprocess-exited-with-error\u001b[0m\n",
            "  \n",
            "  \u001b[31m×\u001b[0m \u001b[32mGetting requirements to build wheel\u001b[0m did not run successfully.\n",
            "  \u001b[31m│\u001b[0m exit code: \u001b[1;36m1\u001b[0m\n",
            "  \u001b[31m╰─>\u001b[0m \u001b[31m[64 lines of output]\u001b[0m\n",
            "  \u001b[31m   \u001b[0m (running 'icu-config --version')\n",
            "  \u001b[31m   \u001b[0m (running 'pkg-config --modversion icu-i18n')\n",
            "  \u001b[31m   \u001b[0m Traceback (most recent call last):\n",
            "  \u001b[31m   \u001b[0m   File \"setup.py\", line 89, in <module>\n",
            "  \u001b[31m   \u001b[0m     ICU_VERSION = os.environ['ICU_VERSION']\n",
            "  \u001b[31m   \u001b[0m   File \"/usr/lib/python3.10/os.py\", line 680, in __getitem__\n",
            "  \u001b[31m   \u001b[0m     raise KeyError(key) from None\n",
            "  \u001b[31m   \u001b[0m KeyError: 'ICU_VERSION'\n",
            "  \u001b[31m   \u001b[0m \n",
            "  \u001b[31m   \u001b[0m During handling of the above exception, another exception occurred:\n",
            "  \u001b[31m   \u001b[0m \n",
            "  \u001b[31m   \u001b[0m Traceback (most recent call last):\n",
            "  \u001b[31m   \u001b[0m   File \"setup.py\", line 92, in <module>\n",
            "  \u001b[31m   \u001b[0m     ICU_VERSION = check_output(('icu-config', '--version')).strip()\n",
            "  \u001b[31m   \u001b[0m   File \"setup.py\", line 19, in check_output\n",
            "  \u001b[31m   \u001b[0m     return subprocess_check_output(popenargs)\n",
            "  \u001b[31m   \u001b[0m   File \"/usr/lib/python3.10/subprocess.py\", line 421, in check_output\n",
            "  \u001b[31m   \u001b[0m     return run(*popenargs, stdout=PIPE, timeout=timeout, check=True,\n",
            "  \u001b[31m   \u001b[0m   File \"/usr/lib/python3.10/subprocess.py\", line 503, in run\n",
            "  \u001b[31m   \u001b[0m     with Popen(*popenargs, **kwargs) as process:\n",
            "  \u001b[31m   \u001b[0m   File \"/usr/lib/python3.10/subprocess.py\", line 971, in __init__\n",
            "  \u001b[31m   \u001b[0m     self._execute_child(args, executable, preexec_fn, close_fds,\n",
            "  \u001b[31m   \u001b[0m   File \"/usr/lib/python3.10/subprocess.py\", line 1863, in _execute_child\n",
            "  \u001b[31m   \u001b[0m     raise child_exception_type(errno_num, err_msg, err_filename)\n",
            "  \u001b[31m   \u001b[0m FileNotFoundError: [Errno 2] No such file or directory: 'icu-config'\n",
            "  \u001b[31m   \u001b[0m \n",
            "  \u001b[31m   \u001b[0m During handling of the above exception, another exception occurred:\n",
            "  \u001b[31m   \u001b[0m \n",
            "  \u001b[31m   \u001b[0m Traceback (most recent call last):\n",
            "  \u001b[31m   \u001b[0m   File \"setup.py\", line 96, in <module>\n",
            "  \u001b[31m   \u001b[0m     ICU_VERSION = check_output(('pkg-config', '--modversion', 'icu-i18n')).strip()\n",
            "  \u001b[31m   \u001b[0m   File \"setup.py\", line 19, in check_output\n",
            "  \u001b[31m   \u001b[0m     return subprocess_check_output(popenargs)\n",
            "  \u001b[31m   \u001b[0m   File \"/usr/lib/python3.10/subprocess.py\", line 421, in check_output\n",
            "  \u001b[31m   \u001b[0m     return run(*popenargs, stdout=PIPE, timeout=timeout, check=True,\n",
            "  \u001b[31m   \u001b[0m   File \"/usr/lib/python3.10/subprocess.py\", line 503, in run\n",
            "  \u001b[31m   \u001b[0m     with Popen(*popenargs, **kwargs) as process:\n",
            "  \u001b[31m   \u001b[0m   File \"/usr/lib/python3.10/subprocess.py\", line 971, in __init__\n",
            "  \u001b[31m   \u001b[0m     self._execute_child(args, executable, preexec_fn, close_fds,\n",
            "  \u001b[31m   \u001b[0m   File \"/usr/lib/python3.10/subprocess.py\", line 1863, in _execute_child\n",
            "  \u001b[31m   \u001b[0m     raise child_exception_type(errno_num, err_msg, err_filename)\n",
            "  \u001b[31m   \u001b[0m FileNotFoundError: [Errno 2] No such file or directory: 'pkg-config'\n",
            "  \u001b[31m   \u001b[0m \n",
            "  \u001b[31m   \u001b[0m During handling of the above exception, another exception occurred:\n",
            "  \u001b[31m   \u001b[0m \n",
            "  \u001b[31m   \u001b[0m Traceback (most recent call last):\n",
            "  \u001b[31m   \u001b[0m   File \"/usr/lib/python3/dist-packages/pip/_vendor/pep517/in_process/_in_process.py\", line 363, in <module>\n",
            "  \u001b[31m   \u001b[0m     main()\n",
            "  \u001b[31m   \u001b[0m   File \"/usr/lib/python3/dist-packages/pip/_vendor/pep517/in_process/_in_process.py\", line 345, in main\n",
            "  \u001b[31m   \u001b[0m     json_out['return_val'] = hook(**hook_input['kwargs'])\n",
            "  \u001b[31m   \u001b[0m   File \"/usr/lib/python3/dist-packages/pip/_vendor/pep517/in_process/_in_process.py\", line 130, in get_requires_for_build_wheel\n",
            "  \u001b[31m   \u001b[0m     return hook(config_settings)\n",
            "  \u001b[31m   \u001b[0m   File \"/usr/lib/python3/dist-packages/setuptools/build_meta.py\", line 162, in get_requires_for_build_wheel\n",
            "  \u001b[31m   \u001b[0m     return self._get_build_requires(\n",
            "  \u001b[31m   \u001b[0m   File \"/usr/lib/python3/dist-packages/setuptools/build_meta.py\", line 143, in _get_build_requires\n",
            "  \u001b[31m   \u001b[0m     self.run_setup()\n",
            "  \u001b[31m   \u001b[0m   File \"/usr/lib/python3/dist-packages/setuptools/build_meta.py\", line 158, in run_setup\n",
            "  \u001b[31m   \u001b[0m     exec(compile(code, __file__, 'exec'), locals())\n",
            "  \u001b[31m   \u001b[0m   File \"setup.py\", line 99, in <module>\n",
            "  \u001b[31m   \u001b[0m     raise RuntimeError('''\n",
            "  \u001b[31m   \u001b[0m RuntimeError:\n",
            "  \u001b[31m   \u001b[0m Please install pkg-config on your system or set the ICU_VERSION environment\n",
            "  \u001b[31m   \u001b[0m variable to the version of ICU you have installed.\n",
            "  \u001b[31m   \u001b[0m \n",
            "  \u001b[31m   \u001b[0m \u001b[31m[end of output]\u001b[0m\n",
            "  \n",
            "  \u001b[1;35mnote\u001b[0m: This error originates from a subprocess, and is likely not a problem with pip.\n",
            "\u001b[?25h\u001b[1;31merror\u001b[0m: \u001b[1msubprocess-exited-with-error\u001b[0m\n",
            "\n",
            "\u001b[31m×\u001b[0m \u001b[32mGetting requirements to build wheel\u001b[0m did not run successfully.\n",
            "\u001b[31m│\u001b[0m exit code: \u001b[1;36m1\u001b[0m\n",
            "\u001b[31m╰─>\u001b[0m See above for output.\n",
            "\n",
            "\u001b[1;35mnote\u001b[0m: This error originates from a subprocess, and is likely not a problem with pip.\n",
            "Note: you may need to restart the kernel to use updated packages.\n"
          ]
        }
      ],
      "source": [
        "pip install morfessor polyglot pyICU pycld2 -U"
      ]
    },
    {
      "cell_type": "code",
      "execution_count": 2,
      "metadata": {
        "colab": {
          "base_uri": "https://localhost:8080/"
        },
        "id": "zWpfMiFRigzP",
        "outputId": "fa3b08af-c54c-4249-e15a-6e93732e0b8f"
      },
      "outputs": [
        {
          "name": "stderr",
          "output_type": "stream",
          "text": [
            "Traceback (most recent call last):\n",
            "  File \"/home/pgdai/.local/bin/polyglot\", line 5, in <module>\n",
            "    from polyglot.__main__ import main\n",
            "  File \"/home/pgdai/.local/lib/python3.10/site-packages/polyglot/__main__.py\", line 16, in <module>\n",
            "    from icu import Locale\n",
            "ModuleNotFoundError: No module named 'icu'\n"
          ]
        },
        {
          "ename": "CalledProcessError",
          "evalue": "Command 'b'polyglot download morph2.en morph2.mr\\n'' returned non-zero exit status 1.",
          "output_type": "error",
          "traceback": [
            "\u001b[0;31m---------------------------------------------------------------------------\u001b[0m",
            "\u001b[0;31mCalledProcessError\u001b[0m                        Traceback (most recent call last)",
            "Cell \u001b[0;32mIn[2], line 1\u001b[0m\n\u001b[0;32m----> 1\u001b[0m \u001b[43mget_ipython\u001b[49m\u001b[43m(\u001b[49m\u001b[43m)\u001b[49m\u001b[38;5;241;43m.\u001b[39;49m\u001b[43mrun_cell_magic\u001b[49m\u001b[43m(\u001b[49m\u001b[38;5;124;43m'\u001b[39;49m\u001b[38;5;124;43mbash\u001b[39;49m\u001b[38;5;124;43m'\u001b[39;49m\u001b[43m,\u001b[49m\u001b[43m \u001b[49m\u001b[38;5;124;43m'\u001b[39;49m\u001b[38;5;124;43m'\u001b[39;49m\u001b[43m,\u001b[49m\u001b[43m \u001b[49m\u001b[38;5;124;43m'\u001b[39;49m\u001b[38;5;124;43mpolyglot download morph2.en morph2.mr\u001b[39;49m\u001b[38;5;130;43;01m\\n\u001b[39;49;00m\u001b[38;5;124;43m'\u001b[39;49m\u001b[43m)\u001b[49m\n",
            "File \u001b[0;32m~/.local/lib/python3.10/site-packages/IPython/core/interactiveshell.py:2541\u001b[0m, in \u001b[0;36mInteractiveShell.run_cell_magic\u001b[0;34m(self, magic_name, line, cell)\u001b[0m\n\u001b[1;32m   2539\u001b[0m \u001b[38;5;28;01mwith\u001b[39;00m \u001b[38;5;28mself\u001b[39m\u001b[38;5;241m.\u001b[39mbuiltin_trap:\n\u001b[1;32m   2540\u001b[0m     args \u001b[38;5;241m=\u001b[39m (magic_arg_s, cell)\n\u001b[0;32m-> 2541\u001b[0m     result \u001b[38;5;241m=\u001b[39m \u001b[43mfn\u001b[49m\u001b[43m(\u001b[49m\u001b[38;5;241;43m*\u001b[39;49m\u001b[43margs\u001b[49m\u001b[43m,\u001b[49m\u001b[43m \u001b[49m\u001b[38;5;241;43m*\u001b[39;49m\u001b[38;5;241;43m*\u001b[39;49m\u001b[43mkwargs\u001b[49m\u001b[43m)\u001b[49m\n\u001b[1;32m   2543\u001b[0m \u001b[38;5;66;03m# The code below prevents the output from being displayed\u001b[39;00m\n\u001b[1;32m   2544\u001b[0m \u001b[38;5;66;03m# when using magics with decorator @output_can_be_silenced\u001b[39;00m\n\u001b[1;32m   2545\u001b[0m \u001b[38;5;66;03m# when the last Python token in the expression is a ';'.\u001b[39;00m\n\u001b[1;32m   2546\u001b[0m \u001b[38;5;28;01mif\u001b[39;00m \u001b[38;5;28mgetattr\u001b[39m(fn, magic\u001b[38;5;241m.\u001b[39mMAGIC_OUTPUT_CAN_BE_SILENCED, \u001b[38;5;28;01mFalse\u001b[39;00m):\n",
            "File \u001b[0;32m~/.local/lib/python3.10/site-packages/IPython/core/magics/script.py:155\u001b[0m, in \u001b[0;36mScriptMagics._make_script_magic.<locals>.named_script_magic\u001b[0;34m(line, cell)\u001b[0m\n\u001b[1;32m    153\u001b[0m \u001b[38;5;28;01melse\u001b[39;00m:\n\u001b[1;32m    154\u001b[0m     line \u001b[38;5;241m=\u001b[39m script\n\u001b[0;32m--> 155\u001b[0m \u001b[38;5;28;01mreturn\u001b[39;00m \u001b[38;5;28;43mself\u001b[39;49m\u001b[38;5;241;43m.\u001b[39;49m\u001b[43mshebang\u001b[49m\u001b[43m(\u001b[49m\u001b[43mline\u001b[49m\u001b[43m,\u001b[49m\u001b[43m \u001b[49m\u001b[43mcell\u001b[49m\u001b[43m)\u001b[49m\n",
            "File \u001b[0;32m~/.local/lib/python3.10/site-packages/IPython/core/magics/script.py:315\u001b[0m, in \u001b[0;36mScriptMagics.shebang\u001b[0;34m(self, line, cell)\u001b[0m\n\u001b[1;32m    310\u001b[0m \u001b[38;5;28;01mif\u001b[39;00m args\u001b[38;5;241m.\u001b[39mraise_error \u001b[38;5;129;01mand\u001b[39;00m p\u001b[38;5;241m.\u001b[39mreturncode \u001b[38;5;241m!=\u001b[39m \u001b[38;5;241m0\u001b[39m:\n\u001b[1;32m    311\u001b[0m     \u001b[38;5;66;03m# If we get here and p.returncode is still None, we must have\u001b[39;00m\n\u001b[1;32m    312\u001b[0m     \u001b[38;5;66;03m# killed it but not yet seen its return code. We don't wait for it,\u001b[39;00m\n\u001b[1;32m    313\u001b[0m     \u001b[38;5;66;03m# in case it's stuck in uninterruptible sleep. -9 = SIGKILL\u001b[39;00m\n\u001b[1;32m    314\u001b[0m     rc \u001b[38;5;241m=\u001b[39m p\u001b[38;5;241m.\u001b[39mreturncode \u001b[38;5;129;01mor\u001b[39;00m \u001b[38;5;241m-\u001b[39m\u001b[38;5;241m9\u001b[39m\n\u001b[0;32m--> 315\u001b[0m     \u001b[38;5;28;01mraise\u001b[39;00m CalledProcessError(rc, cell)\n",
            "\u001b[0;31mCalledProcessError\u001b[0m: Command 'b'polyglot download morph2.en morph2.mr\\n'' returned non-zero exit status 1."
          ]
        }
      ],
      "source": [
        "%%bash\n",
        "polyglot download morph2.en morph2.mr"
      ]
    },
    {
      "cell_type": "code",
      "execution_count": null,
      "metadata": {
        "colab": {
          "base_uri": "https://localhost:8080/"
        },
        "id": "VzzpWDVXj0Ib",
        "outputId": "1bb5e51c-9b65-417f-989e-7885d8fd8ca4"
      },
      "outputs": [
        {
          "ename": "ModuleNotFoundError",
          "evalue": "No module named 'icu'",
          "output_type": "error",
          "traceback": [
            "\u001b[0;31m---------------------------------------------------------------------------\u001b[0m",
            "\u001b[0;31mModuleNotFoundError\u001b[0m                       Traceback (most recent call last)",
            "Cell \u001b[0;32mIn[3], line 1\u001b[0m\n\u001b[0;32m----> 1\u001b[0m \u001b[38;5;28;01mfrom\u001b[39;00m \u001b[38;5;21;01mpolyglot\u001b[39;00m\u001b[38;5;21;01m.\u001b[39;00m\u001b[38;5;21;01mdownloader\u001b[39;00m \u001b[38;5;28;01mimport\u001b[39;00m downloader\n\u001b[1;32m      2\u001b[0m \u001b[38;5;28mprint\u001b[39m(downloader\u001b[38;5;241m.\u001b[39msupported_languages_table(\u001b[38;5;124m'\u001b[39m\u001b[38;5;124mmorph2\u001b[39m\u001b[38;5;124m'\u001b[39m))\n",
            "File \u001b[0;32m~/.local/lib/python3.10/site-packages/polyglot/downloader.py:91\u001b[0m\n\u001b[1;32m     87\u001b[0m \u001b[38;5;28;01mfrom\u001b[39;00m \u001b[38;5;21;01mjson\u001b[39;00m \u001b[38;5;28;01mimport\u001b[39;00m loads\n\u001b[1;32m     90\u001b[0m \u001b[38;5;28;01mfrom\u001b[39;00m \u001b[38;5;21;01mpolyglot\u001b[39;00m \u001b[38;5;28;01mimport\u001b[39;00m polyglot_path\n\u001b[0;32m---> 91\u001b[0m \u001b[38;5;28;01mfrom\u001b[39;00m \u001b[38;5;21;01mpolyglot\u001b[39;00m\u001b[38;5;21;01m.\u001b[39;00m\u001b[38;5;21;01mdetect\u001b[39;00m\u001b[38;5;21;01m.\u001b[39;00m\u001b[38;5;21;01mlangids\u001b[39;00m \u001b[38;5;28;01mimport\u001b[39;00m isoLangs\n\u001b[1;32m     92\u001b[0m \u001b[38;5;28;01mfrom\u001b[39;00m \u001b[38;5;21;01mpolyglot\u001b[39;00m\u001b[38;5;21;01m.\u001b[39;00m\u001b[38;5;21;01mutils\u001b[39;00m \u001b[38;5;28;01mimport\u001b[39;00m pretty_list\n\u001b[1;32m     93\u001b[0m \u001b[38;5;28;01mfrom\u001b[39;00m \u001b[38;5;21;01micu\u001b[39;00m \u001b[38;5;28;01mimport\u001b[39;00m Locale\n",
            "File \u001b[0;32m~/.local/lib/python3.10/site-packages/polyglot/detect/__init__.py:1\u001b[0m\n\u001b[0;32m----> 1\u001b[0m \u001b[38;5;28;01mfrom\u001b[39;00m \u001b[38;5;21;01m.\u001b[39;00m\u001b[38;5;21;01mbase\u001b[39;00m \u001b[38;5;28;01mimport\u001b[39;00m Detector, Language\n\u001b[1;32m      3\u001b[0m __all__ \u001b[38;5;241m=\u001b[39m [\u001b[38;5;124m'\u001b[39m\u001b[38;5;124mDetector\u001b[39m\u001b[38;5;124m'\u001b[39m, \u001b[38;5;124m'\u001b[39m\u001b[38;5;124mLanguage\u001b[39m\u001b[38;5;124m'\u001b[39m]\n",
            "File \u001b[0;32m~/.local/lib/python3.10/site-packages/polyglot/detect/base.py:11\u001b[0m\n\u001b[1;32m      5\u001b[0m \u001b[38;5;124;03m\"\"\"Detecting languages\"\"\"\u001b[39;00m\n\u001b[1;32m      8\u001b[0m \u001b[38;5;28;01mimport\u001b[39;00m \u001b[38;5;21;01mlogging\u001b[39;00m\n\u001b[0;32m---> 11\u001b[0m \u001b[38;5;28;01mfrom\u001b[39;00m \u001b[38;5;21;01micu\u001b[39;00m \u001b[38;5;28;01mimport\u001b[39;00m Locale\n\u001b[1;32m     12\u001b[0m \u001b[38;5;28;01mimport\u001b[39;00m \u001b[38;5;21;01mpycld2\u001b[39;00m \u001b[38;5;28;01mas\u001b[39;00m \u001b[38;5;21;01mcld2\u001b[39;00m\n\u001b[1;32m     14\u001b[0m logger \u001b[38;5;241m=\u001b[39m logging\u001b[38;5;241m.\u001b[39mgetLogger(\u001b[38;5;18m__name__\u001b[39m)\n",
            "\u001b[0;31mModuleNotFoundError\u001b[0m: No module named 'icu'"
          ]
        }
      ],
      "source": [
        "from polyglot.downloader import downloader\n",
        "print(downloader.supported_languages_table('morph2'))"
      ]
    },
    {
      "cell_type": "code",
      "execution_count": null,
      "metadata": {
        "id": "KQNqIjf2lSOA"
      },
      "outputs": [],
      "source": [
        "from polyglot.text import Text, Word"
      ]
    },
    {
      "cell_type": "code",
      "execution_count": null,
      "metadata": {
        "id": "07p6IZ7NlpTb"
      },
      "outputs": [],
      "source": [
        "words = ['cats', 'computing', 'association', 'programming', 'leadership', 'miscommunication',\n",
        "         'identifiable', 'psychologically', 'engineering', 'tabular', 'realisic', 'colorfulness']"
      ]
    },
    {
      "cell_type": "code",
      "execution_count": null,
      "metadata": {
        "colab": {
          "base_uri": "https://localhost:8080/"
        },
        "id": "5MvhvvNBmLz0",
        "outputId": "0220f5b2-7776-45ef-c9c4-8d783c80f81e"
      },
      "outputs": [
        {
          "name": "stdout",
          "output_type": "stream",
          "text": [
            "cats \t\t ['cat', 's']\n",
            "computing \t\t ['com', 'put', 'ing']\n",
            "association \t\t ['associ', 'ation']\n",
            "programming \t\t ['program', 'ming']\n",
            "leadership \t\t ['leader', 'ship']\n",
            "miscommunication \t\t ['mis', 'communication']\n",
            "identifiable \t\t ['identif', 'i', 'able']\n",
            "psychologically \t\t ['psycho', 'logical', 'ly']\n",
            "engineering \t\t ['engine', 'er', 'ing']\n",
            "tabular \t\t ['tab', 'ular']\n",
            "realisic \t\t ['real', 'is', 'ic']\n",
            "colorfulness \t\t ['color', 'ful', 'ness']\n"
          ]
        }
      ],
      "source": [
        "for w in words:\n",
        "  w = Word(w, language='en')\n",
        "  print(w, '\\t\\t', w.morphemes)"
      ]
    },
    {
      "cell_type": "code",
      "execution_count": null,
      "metadata": {
        "colab": {
          "base_uri": "https://localhost:8080/"
        },
        "id": "wHadzmMcmpbm",
        "outputId": "dea8c13a-625c-4a85-92b8-fc6800ab2b1c"
      },
      "outputs": [
        {
          "name": "stdout",
          "output_type": "stream",
          "text": [
            "प्रमाणिकरण \t\t ['प्रमाण', 'िकरण']\n",
            "जलविद्युत \t\t ['जल', 'विद्युत']\n",
            "राजशास्त्र \t\t ['राज', 'शास्त्र']\n",
            "जलप्राधिकरण \t\t ['जल', 'प्राधिकरण']\n",
            "मानशास्त्रीय \t\t ['मान', 'शास्त्र', 'ीय']\n",
            "रविवार \t\t ['रवि', 'वार']\n",
            "महाद्वीप \t\t ['महा', 'द्वीप']\n"
          ]
        }
      ],
      "source": [
        "words = ['प्रमाणिकरण', 'जलविद्युत', 'राजशास्त्र', 'जलप्राधिकरण', 'मानशास्त्रीय', 'रविवार', 'महाद्वीप']\n",
        "for w in words:\n",
        "  w = Word(w, language='mr')\n",
        "  print(w, '\\t\\t', w.morphemes)"
      ]
    },
    {
      "cell_type": "code",
      "execution_count": null,
      "metadata": {
        "id": "FW-2sby21AqH"
      },
      "outputs": [],
      "source": [
        "blob = \"Wewillmeettoday.\"\n",
        "text = Text(blob)\n",
        "text.language = 'en'"
      ]
    },
    {
      "cell_type": "code",
      "execution_count": null,
      "metadata": {
        "colab": {
          "base_uri": "https://localhost:8080/",
          "height": 35
        },
        "id": "X7AGxubU1Do1",
        "outputId": "066af898-289f-4203-d04b-4c65c5052c10"
      },
      "outputs": [
        {
          "data": {
            "application/vnd.google.colaboratory.intrinsic+json": {
              "type": "string"
            },
            "text/plain": [
              "'Wewillmeettoday.'"
            ]
          },
          "execution_count": 14,
          "metadata": {},
          "output_type": "execute_result"
        }
      ],
      "source": [
        "blob  # blob means raw text"
      ]
    },
    {
      "cell_type": "code",
      "execution_count": null,
      "metadata": {
        "colab": {
          "base_uri": "https://localhost:8080/"
        },
        "id": "6ruir44O1GR2",
        "outputId": "821cc58f-57bd-4626-d1f7-2e39effeeaf5"
      },
      "outputs": [
        {
          "data": {
            "text/plain": [
              "Text(\"Wewillmeettoday.\")"
            ]
          },
          "execution_count": 15,
          "metadata": {},
          "output_type": "execute_result"
        }
      ],
      "source": [
        "text"
      ]
    },
    {
      "cell_type": "code",
      "execution_count": null,
      "metadata": {
        "colab": {
          "base_uri": "https://localhost:8080/"
        },
        "id": "UyInhvup1IcY",
        "outputId": "280ee451-b157-46f1-9788-fe22daec03f8"
      },
      "outputs": [
        {
          "data": {
            "text/plain": [
              "WordList(['We', 'will', 'meet', 'to', 'day', '.'])"
            ]
          },
          "execution_count": 16,
          "metadata": {},
          "output_type": "execute_result"
        }
      ],
      "source": [
        "text.morphemes"
      ]
    },
    {
      "cell_type": "code",
      "execution_count": null,
      "metadata": {
        "colab": {
          "base_uri": "https://localhost:8080/"
        },
        "id": "k29lDwuW1K1F",
        "outputId": "1c8c5ef7-91e0-4aea-abe4-be14729330c3"
      },
      "outputs": [
        {
          "name": "stderr",
          "output_type": "stream",
          "text": [
            "[nltk_data] Downloading package punkt to /root/nltk_data...\n",
            "[nltk_data]   Unzipping tokenizers/punkt.zip.\n"
          ]
        },
        {
          "data": {
            "text/plain": [
              "True"
            ]
          },
          "execution_count": 33,
          "metadata": {},
          "output_type": "execute_result"
        }
      ],
      "source": [
        "from nltk import pos_tag\n",
        "from nltk.tokenize import word_tokenize\n",
        "import nltk\n",
        "# nltk.download('punkt')"
      ]
    },
    {
      "cell_type": "code",
      "execution_count": null,
      "metadata": {
        "id": "K1uY9u-B4u1m"
      },
      "outputs": [],
      "source": [
        "text = \"Venus is the second planet from the Sun. It is a terrestrial planet and is the closest in mass and size to its orbital neighbour Earth. Venus is notable for having the densest atmosphere of the terrestrial planets, composed mostly of carbon dioxide with a thick, global sulfuric acid cloud cover. At the surface it has a mean temperature of 737 K (464 °C; 867 °F) and a pressure of 92 times that of Earth's at sea level. These extreme conditions compress carbon dioxide into a supercritical state close to Venus's surface. \""
      ]
    },
    {
      "cell_type": "code",
      "execution_count": null,
      "metadata": {
        "colab": {
          "base_uri": "https://localhost:8080/",
          "height": 70
        },
        "id": "dDhxYHrj5AtK",
        "outputId": "e4b9d554-4655-4a85-94f6-2f5348b05423"
      },
      "outputs": [
        {
          "data": {
            "application/vnd.google.colaboratory.intrinsic+json": {
              "type": "string"
            },
            "text/plain": [
              "\"Venus is the second planet from the Sun. It is a terrestrial planet and is the closest in mass and size to its orbital neighbour Earth. Venus is notable for having the densest atmosphere of the terrestrial planets, composed mostly of carbon dioxide with a thick, global sulfuric acid cloud cover. At the surface it has a mean temperature of 737 K (464 °C; 867 °F) and a pressure of 92 times that of Earth's at sea level. These extreme conditions compress carbon dioxide into a supercritical state close to Venus's surface. \""
            ]
          },
          "execution_count": 23,
          "metadata": {},
          "output_type": "execute_result"
        }
      ],
      "source": [
        "text"
      ]
    },
    {
      "cell_type": "code",
      "execution_count": null,
      "metadata": {
        "id": "yQhC5pA95APe"
      },
      "outputs": [],
      "source": [
        "tags = pos_tag(word_tokenize(text))"
      ]
    },
    {
      "cell_type": "code",
      "execution_count": null,
      "metadata": {
        "colab": {
          "base_uri": "https://localhost:8080/"
        },
        "id": "imWqA6WA5CV3",
        "outputId": "4ba97d4d-6cab-47ba-b88f-babb97c5a90e"
      },
      "outputs": [
        {
          "data": {
            "text/plain": [
              "[('Venus', 'NNP'),\n",
              " ('is', 'VBZ'),\n",
              " ('the', 'DT'),\n",
              " ('second', 'JJ'),\n",
              " ('planet', 'NN'),\n",
              " ('from', 'IN'),\n",
              " ('the', 'DT'),\n",
              " ('Sun', 'NNP'),\n",
              " ('.', '.'),\n",
              " ('It', 'PRP'),\n",
              " ('is', 'VBZ'),\n",
              " ('a', 'DT'),\n",
              " ('terrestrial', 'JJ'),\n",
              " ('planet', 'NN'),\n",
              " ('and', 'CC'),\n",
              " ('is', 'VBZ'),\n",
              " ('the', 'DT'),\n",
              " ('closest', 'JJS'),\n",
              " ('in', 'IN'),\n",
              " ('mass', 'NN'),\n",
              " ('and', 'CC'),\n",
              " ('size', 'NN'),\n",
              " ('to', 'TO'),\n",
              " ('its', 'PRP$'),\n",
              " ('orbital', 'JJ'),\n",
              " ('neighbour', 'JJ'),\n",
              " ('Earth', 'NN'),\n",
              " ('.', '.'),\n",
              " ('Venus', 'NNP'),\n",
              " ('is', 'VBZ'),\n",
              " ('notable', 'JJ'),\n",
              " ('for', 'IN'),\n",
              " ('having', 'VBG'),\n",
              " ('the', 'DT'),\n",
              " ('densest', 'JJS'),\n",
              " ('atmosphere', 'NN'),\n",
              " ('of', 'IN'),\n",
              " ('the', 'DT'),\n",
              " ('terrestrial', 'JJ'),\n",
              " ('planets', 'NNS'),\n",
              " (',', ','),\n",
              " ('composed', 'VBD'),\n",
              " ('mostly', 'RB'),\n",
              " ('of', 'IN'),\n",
              " ('carbon', 'NN'),\n",
              " ('dioxide', 'NN'),\n",
              " ('with', 'IN'),\n",
              " ('a', 'DT'),\n",
              " ('thick', 'NN'),\n",
              " (',', ','),\n",
              " ('global', 'JJ'),\n",
              " ('sulfuric', 'JJ'),\n",
              " ('acid', 'NN'),\n",
              " ('cloud', 'NN'),\n",
              " ('cover', 'NN'),\n",
              " ('.', '.'),\n",
              " ('At', 'IN'),\n",
              " ('the', 'DT'),\n",
              " ('surface', 'NN'),\n",
              " ('it', 'PRP'),\n",
              " ('has', 'VBZ'),\n",
              " ('a', 'DT'),\n",
              " ('mean', 'JJ'),\n",
              " ('temperature', 'NN'),\n",
              " ('of', 'IN'),\n",
              " ('737', 'CD'),\n",
              " ('K', 'NNP'),\n",
              " ('(', '('),\n",
              " ('464', 'CD'),\n",
              " ('°C', 'NN'),\n",
              " (';', ':'),\n",
              " ('867', 'CD'),\n",
              " ('°F', 'NN'),\n",
              " (')', ')'),\n",
              " ('and', 'CC'),\n",
              " ('a', 'DT'),\n",
              " ('pressure', 'NN'),\n",
              " ('of', 'IN'),\n",
              " ('92', 'CD'),\n",
              " ('times', 'NNS'),\n",
              " ('that', 'IN'),\n",
              " ('of', 'IN'),\n",
              " ('Earth', 'NNP'),\n",
              " (\"'s\", 'POS'),\n",
              " ('at', 'IN'),\n",
              " ('sea', 'NN'),\n",
              " ('level', 'NN'),\n",
              " ('.', '.'),\n",
              " ('These', 'DT'),\n",
              " ('extreme', 'JJ'),\n",
              " ('conditions', 'NNS'),\n",
              " ('compress', 'VBP'),\n",
              " ('carbon', 'NN'),\n",
              " ('dioxide', 'NN'),\n",
              " ('into', 'IN'),\n",
              " ('a', 'DT'),\n",
              " ('supercritical', 'JJ'),\n",
              " ('state', 'NN'),\n",
              " ('close', 'NN'),\n",
              " ('to', 'TO'),\n",
              " ('Venus', 'NNP'),\n",
              " (\"'s\", 'POS'),\n",
              " ('surface', 'NN'),\n",
              " ('.', '.')]"
            ]
          },
          "execution_count": 35,
          "metadata": {},
          "output_type": "execute_result"
        }
      ],
      "source": [
        "tags"
      ]
    },
    {
      "cell_type": "markdown",
      "metadata": {
        "id": "RSyl6MT96AQr"
      },
      "source": [
        "Extract only nouns from this text"
      ]
    },
    {
      "cell_type": "code",
      "execution_count": null,
      "metadata": {
        "colab": {
          "base_uri": "https://localhost:8080/"
        },
        "id": "NgnwknnM6CRc",
        "outputId": "0a0dac0d-3841-4d7a-e0f1-592cc31c6429"
      },
      "outputs": [
        {
          "data": {
            "text/plain": [
              "['Venus',\n",
              " 'planet',\n",
              " 'Sun',\n",
              " 'planet',\n",
              " 'mass',\n",
              " 'size',\n",
              " 'Earth',\n",
              " 'Venus',\n",
              " 'atmosphere',\n",
              " 'planets',\n",
              " 'carbon',\n",
              " 'dioxide',\n",
              " 'thick',\n",
              " 'acid',\n",
              " 'cloud',\n",
              " 'cover',\n",
              " 'surface',\n",
              " 'temperature',\n",
              " 'K',\n",
              " '°C',\n",
              " '°F',\n",
              " 'pressure',\n",
              " 'times',\n",
              " 'Earth',\n",
              " 'sea',\n",
              " 'level',\n",
              " 'conditions',\n",
              " 'carbon',\n",
              " 'dioxide',\n",
              " 'state',\n",
              " 'close',\n",
              " 'Venus',\n",
              " 'surface']"
            ]
          },
          "execution_count": 39,
          "metadata": {},
          "output_type": "execute_result"
        }
      ],
      "source": [
        "# nouns = [t[0] for t in tags if t[1] == 'NN' or t[1] == 'NNS'or t[1] == 'NNP'or t[1] == 'NNPS']\n",
        "nouns = [t[0] for t in tags if t[1].startswith('N')]\n",
        "nouns"
      ]
    },
    {
      "cell_type": "code",
      "execution_count": null,
      "metadata": {
        "colab": {
          "base_uri": "https://localhost:8080/"
        },
        "id": "pfQK_Jym6goQ",
        "outputId": "d36d46cb-b5fb-48dd-feeb-8881f0b83635"
      },
      "outputs": [
        {
          "data": {
            "text/plain": [
              "[['second', 'planet'],\n",
              " ['terrestrial', 'planet'],\n",
              " ['neighbour', 'Earth'],\n",
              " ['densest', 'atmosphere'],\n",
              " ['terrestrial', 'planets'],\n",
              " ['sulfuric', 'acid'],\n",
              " ['mean', 'temperature'],\n",
              " ['extreme', 'conditions'],\n",
              " ['supercritical', 'state']]"
            ]
          },
          "execution_count": 40,
          "metadata": {},
          "output_type": "execute_result"
        }
      ],
      "source": [
        "adj_noun_pair = [[tags[i][0], tags[i+1][0]]  for i in range(0, len(tags)) if tags[i][1].startswith('J') and tags[i+1][1].startswith('N')]\n",
        "adj_noun_pair"
      ]
    },
    {
      "cell_type": "code",
      "execution_count": null,
      "metadata": {
        "id": "BOqEeOgh-o2H"
      },
      "outputs": [],
      "source": []
    }
  ],
  "metadata": {
    "colab": {
      "provenance": []
    },
    "kernelspec": {
      "display_name": "Python 3",
      "name": "python3"
    },
    "language_info": {
      "codemirror_mode": {
        "name": "ipython",
        "version": 3
      },
      "file_extension": ".py",
      "mimetype": "text/x-python",
      "name": "python",
      "nbconvert_exporter": "python",
      "pygments_lexer": "ipython3",
      "version": "3.10.12"
    }
  },
  "nbformat": 4,
  "nbformat_minor": 0
}
