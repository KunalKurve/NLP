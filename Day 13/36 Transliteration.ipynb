{
 "cells": [
  {
   "cell_type": "code",
   "execution_count": 1,
   "metadata": {},
   "outputs": [
    {
     "name": "stdout",
     "output_type": "stream",
     "text": [
      "Defaulting to user installation because normal site-packages is not writeable\n",
      "Collecting indic_transliteration\n",
      "  Downloading indic_transliteration-2.3.59-py3-none-any.whl (152 kB)\n",
      "\u001b[2K     \u001b[90m━━━━━━━━━━━━━━━━━━━━━━━━━━━━━━━━━━━━━━━\u001b[0m \u001b[32m152.1/152.1 KB\u001b[0m \u001b[31m1.5 MB/s\u001b[0m eta \u001b[36m0:00:00\u001b[0ma \u001b[36m0:00:01\u001b[0m\n",
      "\u001b[?25hCollecting toml\n",
      "  Downloading toml-0.10.2-py2.py3-none-any.whl (16 kB)\n",
      "Requirement already satisfied: regex in /home/pgdai/.local/lib/python3.10/site-packages (from indic_transliteration) (2024.5.15)\n",
      "Requirement already satisfied: typer in /home/pgdai/.local/lib/python3.10/site-packages (from indic_transliteration) (0.9.4)\n",
      "Collecting backports.functools-lru-cache\n",
      "  Downloading backports.functools_lru_cache-2.0.0-py2.py3-none-any.whl (6.7 kB)\n",
      "Collecting roman\n",
      "  Downloading roman-4.2-py3-none-any.whl (5.5 kB)\n",
      "Requirement already satisfied: typing-extensions>=3.7.4.3 in /home/pgdai/.local/lib/python3.10/site-packages (from typer->indic_transliteration) (4.11.0)\n",
      "Requirement already satisfied: click<9.0.0,>=7.1.1 in /home/pgdai/.local/lib/python3.10/site-packages (from typer->indic_transliteration) (8.1.7)\n",
      "Installing collected packages: toml, roman, backports.functools-lru-cache, indic_transliteration\n",
      "Successfully installed backports.functools-lru-cache-2.0.0 indic_transliteration-2.3.59 roman-4.2 toml-0.10.2\n",
      "Note: you may need to restart the kernel to use updated packages.\n"
     ]
    }
   ],
   "source": [
    "pip install indic_transliteration"
   ]
  },
  {
   "cell_type": "markdown",
   "metadata": {},
   "source": [
    "#### Import the Library"
   ]
  },
  {
   "cell_type": "code",
   "execution_count": 2,
   "metadata": {},
   "outputs": [],
   "source": [
    "from indic_transliteration import sanscript\n",
    "from indic_transliteration.sanscript import transliterate"
   ]
  },
  {
   "cell_type": "code",
   "execution_count": 18,
   "metadata": {},
   "outputs": [],
   "source": [
    "data1 = 'kuNaala'\n",
    "data2 = 'yogesha'\n",
    "data3 = 'maanasii'\n",
    "data4 = 'osheen'"
   ]
  },
  {
   "cell_type": "code",
   "execution_count": 19,
   "metadata": {},
   "outputs": [
    {
     "name": "stdout",
     "output_type": "stream",
     "text": [
      "कुणाल\n",
      "योगेश\n",
      "मानसी\n",
      "ओशीन्\n"
     ]
    }
   ],
   "source": [
    "print(transliterate(data1, sanscript.ITRANS, sanscript.DEVANAGARI))\n",
    "print(transliterate(data2, sanscript.ITRANS, sanscript.DEVANAGARI))\n",
    "print(transliterate(data3, sanscript.ITRANS, sanscript.DEVANAGARI))\n",
    "print(transliterate(data4, sanscript.ITRANS, sanscript.DEVANAGARI))"
   ]
  },
  {
   "cell_type": "code",
   "execution_count": 20,
   "metadata": {},
   "outputs": [
    {
     "name": "stdout",
     "output_type": "stream",
     "text": [
      "కుణాల\n",
      "యోగేశ\n",
      "మానసీ\n",
      "ఓశీన్\n"
     ]
    }
   ],
   "source": [
    "print(transliterate(data1, sanscript.ITRANS, sanscript.TELUGU))\n",
    "print(transliterate(data2, sanscript.ITRANS, sanscript.TELUGU))\n",
    "print(transliterate(data3, sanscript.ITRANS, sanscript.TELUGU))\n",
    "print(transliterate(data4, sanscript.ITRANS, sanscript.TELUGU))"
   ]
  },
  {
   "cell_type": "code",
   "execution_count": 21,
   "metadata": {},
   "outputs": [
    {
     "name": "stdout",
     "output_type": "stream",
     "text": [
      "কুণাল\n",
      "যোগেশ\n",
      "মানসী\n",
      "ওশীন্\n"
     ]
    }
   ],
   "source": [
    "print(transliterate(data1, sanscript.ITRANS, sanscript.BENGALI))\n",
    "print(transliterate(data2, sanscript.ITRANS, sanscript.BENGALI))\n",
    "print(transliterate(data3, sanscript.ITRANS, sanscript.BENGALI))\n",
    "print(transliterate(data4, sanscript.ITRANS, sanscript.BENGALI))"
   ]
  },
  {
   "cell_type": "code",
   "execution_count": 22,
   "metadata": {},
   "outputs": [
    {
     "name": "stdout",
     "output_type": "stream",
     "text": [
      "કુણાલ\n",
      "યોગેશ\n",
      "માનસી\n",
      "ઓશીન્\n"
     ]
    }
   ],
   "source": [
    "print(transliterate(data1, sanscript.ITRANS, sanscript.GUJARATI))\n",
    "print(transliterate(data2, sanscript.ITRANS, sanscript.GUJARATI))\n",
    "print(transliterate(data3, sanscript.ITRANS, sanscript.GUJARATI))\n",
    "print(transliterate(data4, sanscript.ITRANS, sanscript.GUJARATI))"
   ]
  }
 ],
 "metadata": {
  "kernelspec": {
   "display_name": "Python 3",
   "language": "python",
   "name": "python3"
  },
  "language_info": {
   "codemirror_mode": {
    "name": "ipython",
    "version": 3
   },
   "file_extension": ".py",
   "mimetype": "text/x-python",
   "name": "python",
   "nbconvert_exporter": "python",
   "pygments_lexer": "ipython3",
   "version": "3.10.12"
  }
 },
 "nbformat": 4,
 "nbformat_minor": 2
}
