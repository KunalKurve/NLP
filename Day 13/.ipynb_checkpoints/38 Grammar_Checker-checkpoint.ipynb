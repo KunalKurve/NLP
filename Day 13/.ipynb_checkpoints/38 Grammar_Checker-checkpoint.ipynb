{
 "cells": [
  {
   "cell_type": "code",
   "execution_count": 1,
   "id": "8757a559-34d5-4687-a3c6-296fca78f637",
   "metadata": {},
   "outputs": [
    {
     "name": "stdout",
     "output_type": "stream",
     "text": [
      "Collecting language-tool-python\n",
      "  Downloading language_tool_python-2.8-py3-none-any.whl.metadata (12 kB)\n",
      "Requirement already satisfied: pip in /home/pgdai/anaconda3/lib/python3.11/site-packages (from language-tool-python) (23.3.1)\n",
      "Requirement already satisfied: requests in /home/pgdai/anaconda3/lib/python3.11/site-packages (from language-tool-python) (2.31.0)\n",
      "Requirement already satisfied: tqdm in /home/pgdai/anaconda3/lib/python3.11/site-packages (from language-tool-python) (4.65.0)\n",
      "Requirement already satisfied: wheel in /home/pgdai/anaconda3/lib/python3.11/site-packages (from language-tool-python) (0.41.2)\n",
      "Requirement already satisfied: charset-normalizer<4,>=2 in /home/pgdai/anaconda3/lib/python3.11/site-packages (from requests->language-tool-python) (2.0.4)\n",
      "Requirement already satisfied: idna<4,>=2.5 in /home/pgdai/anaconda3/lib/python3.11/site-packages (from requests->language-tool-python) (3.4)\n",
      "Requirement already satisfied: urllib3<3,>=1.21.1 in /home/pgdai/anaconda3/lib/python3.11/site-packages (from requests->language-tool-python) (2.0.7)\n",
      "Requirement already satisfied: certifi>=2017.4.17 in /home/pgdai/anaconda3/lib/python3.11/site-packages (from requests->language-tool-python) (2024.6.2)\n",
      "Downloading language_tool_python-2.8-py3-none-any.whl (35 kB)\n",
      "Installing collected packages: language-tool-python\n",
      "Successfully installed language-tool-python-2.8\n",
      "Note: you may need to restart the kernel to use updated packages.\n"
     ]
    }
   ],
   "source": [
    "pip install language-tool-python"
   ]
  },
  {
   "cell_type": "code",
   "execution_count": null,
   "id": "3918cef2-3f71-45fe-96c5-e0259b4f0390",
   "metadata": {},
   "outputs": [],
   "source": []
  }
 ],
 "metadata": {
  "kernelspec": {
   "display_name": "Python 3 (ipykernel)",
   "language": "python",
   "name": "python3"
  },
  "language_info": {
   "codemirror_mode": {
    "name": "ipython",
    "version": 3
   },
   "file_extension": ".py",
   "mimetype": "text/x-python",
   "name": "python",
   "nbconvert_exporter": "python",
   "pygments_lexer": "ipython3",
   "version": "3.11.5"
  }
 },
 "nbformat": 4,
 "nbformat_minor": 5
}
