{
 "cells": [
  {
   "cell_type": "code",
   "execution_count": 2,
   "metadata": {},
   "outputs": [],
   "source": [
    "from nltk.corpus import wordnet"
   ]
  },
  {
   "cell_type": "code",
   "execution_count": 3,
   "metadata": {},
   "outputs": [
    {
     "data": {
      "text/plain": [
       "<WordNetCorpusReader in 'C:\\\\Users\\\\Administrator.DAI-PC2\\\\AppData\\\\Roaming\\\\nltk_data\\\\corpora\\\\wordnet.zip/wordnet/'>"
      ]
     },
     "execution_count": 3,
     "metadata": {},
     "output_type": "execute_result"
    }
   ],
   "source": [
    "wordnet"
   ]
  },
  {
   "cell_type": "code",
   "execution_count": 4,
   "metadata": {},
   "outputs": [],
   "source": [
    "x = wordnet.synsets('create')"
   ]
  },
  {
   "cell_type": "code",
   "execution_count": 5,
   "metadata": {},
   "outputs": [
    {
     "data": {
      "text/plain": [
       "[Synset('make.v.03'),\n",
       " Synset('create.v.02'),\n",
       " Synset('create.v.03'),\n",
       " Synset('create.v.04'),\n",
       " Synset('create.v.05'),\n",
       " Synset('produce.v.02')]"
      ]
     },
     "execution_count": 5,
     "metadata": {},
     "output_type": "execute_result"
    }
   ],
   "source": [
    "x"
   ]
  },
  {
   "cell_type": "code",
   "execution_count": 6,
   "metadata": {},
   "outputs": [],
   "source": [
    "synonyms = set()\n",
    "\n",
    "for word in wordnet.synsets('play'):\n",
    "    synonyms.add(word.lemmas()[0].name())"
   ]
  },
  {
   "cell_type": "code",
   "execution_count": 7,
   "metadata": {},
   "outputs": [
    {
     "data": {
      "text/plain": [
       "{'act',\n",
       " 'bet',\n",
       " 'bid',\n",
       " 'bring',\n",
       " 'dally',\n",
       " 'free_rein',\n",
       " 'fun',\n",
       " 'gambling',\n",
       " 'looseness',\n",
       " 'maneuver',\n",
       " 'meet',\n",
       " 'play',\n",
       " 'playing_period',\n",
       " 'shimmer',\n",
       " 'toy',\n",
       " 'turn'}"
      ]
     },
     "execution_count": 7,
     "metadata": {},
     "output_type": "execute_result"
    }
   ],
   "source": [
    "synonyms"
   ]
  },
  {
   "cell_type": "code",
   "execution_count": 8,
   "metadata": {},
   "outputs": [
    {
     "name": "stdout",
     "output_type": "stream",
     "text": [
      "good\n",
      "good\n",
      "good\n",
      "commodity\n",
      "good\n",
      "full\n",
      "good\n",
      "estimable\n",
      "beneficial\n",
      "good\n",
      "good\n",
      "adept\n",
      "good\n",
      "dear\n",
      "dependable\n",
      "good\n",
      "good\n",
      "effective\n",
      "good\n",
      "good\n",
      "good\n",
      "good\n",
      "good\n",
      "good\n",
      "good\n",
      "well\n",
      "thoroughly\n"
     ]
    }
   ],
   "source": [
    "synonyms = set()\n",
    "\n",
    "for word in wordnet.synsets('good'):\n",
    "    print(word.lemmas()[0].name())"
   ]
  },
  {
   "cell_type": "code",
   "execution_count": 9,
   "metadata": {},
   "outputs": [
    {
     "name": "stdout",
     "output_type": "stream",
     "text": [
      "Word and Type : post.n.01\n",
      "Synonym : post\n",
      "The meaning of the word : the position where someone (as a guard or sentry) stands or is assigned to stand\n",
      "Example : ['a soldier manned the entrance post', 'a sentry station']\n"
     ]
    }
   ],
   "source": [
    "synset = wordnet.synsets(\"post\")\n",
    "print('Word and Type : ' + synset[0].name())\n",
    "print('Synonym : ' + synset[0].lemmas()[0].name())\n",
    "print('The meaning of the word : ' + synset[0].definition())\n",
    "print('Example : ' + str(synset[0].examples()))"
   ]
  },
  {
   "cell_type": "code",
   "execution_count": 10,
   "metadata": {},
   "outputs": [
    {
     "name": "stdout",
     "output_type": "stream",
     "text": [
      "Word and Type : position.n.06\n",
      "Synonym : position\n",
      "The meaning of the word : a job in an organization\n",
      "Example : ['he occupied a post in the treasury']\n"
     ]
    }
   ],
   "source": [
    "synset = wordnet.synsets(\"post\")\n",
    "print('Word and Type : ' + synset[2].name())\n",
    "print('Synonym : ' + synset[2].lemmas()[0].name())\n",
    "print('The meaning of the word : ' + synset[2].definition())\n",
    "print('Example : ' + str(synset[2].examples()))\n"
   ]
  },
  {
   "cell_type": "code",
   "execution_count": 11,
   "metadata": {},
   "outputs": [
    {
     "name": "stdout",
     "output_type": "stream",
     "text": [
      "Word and Type : post.n.09\n",
      "Synonym : post\n",
      "The meaning of the word : a pole or stake set up to mark something (as the start or end of a race track)\n",
      "Example : ['a pair of posts marked the goal', 'the corner of the lot was indicated by a stake']\n"
     ]
    }
   ],
   "source": [
    "synset = wordnet.synsets(\"post\")\n",
    "print('Word and Type : ' + synset[8].name())\n",
    "print('Synonym : ' + synset[8].lemmas()[0].name())\n",
    "print('The meaning of the word : ' + synset[8].definition())\n",
    "print('Example : ' + str(synset[8].examples()))"
   ]
  },
  {
   "cell_type": "code",
   "execution_count": 12,
   "metadata": {},
   "outputs": [
    {
     "data": {
      "text/plain": [
       "[Synset('post.n.01'),\n",
       " Synset('military_post.n.01'),\n",
       " Synset('position.n.06'),\n",
       " Synset('post.n.04'),\n",
       " Synset('post.n.05'),\n",
       " Synset('post.n.06'),\n",
       " Synset('post.n.07'),\n",
       " Synset('mail.n.04'),\n",
       " Synset('post.n.09'),\n",
       " Synset('mail.n.02'),\n",
       " Synset('post.n.11'),\n",
       " Synset('post.v.01'),\n",
       " Synset('post.v.02'),\n",
       " Synset('post.v.03'),\n",
       " Synset('station.v.01'),\n",
       " Synset('post.v.05'),\n",
       " Synset('post.v.06'),\n",
       " Synset('post.v.07'),\n",
       " Synset('post.v.08'),\n",
       " Synset('stake.v.03'),\n",
       " Synset('post.v.10'),\n",
       " Synset('mail.v.02'),\n",
       " Synset('post.v.12')]"
      ]
     },
     "execution_count": 12,
     "metadata": {},
     "output_type": "execute_result"
    }
   ],
   "source": [
    "synset"
   ]
  },
  {
   "cell_type": "code",
   "execution_count": 13,
   "metadata": {},
   "outputs": [
    {
     "name": "stdout",
     "output_type": "stream",
     "text": [
      "sound.n.01\n",
      "sound.n.02\n",
      "sound.n.03\n",
      "sound.n.04\n",
      "audio.n.01\n",
      "phone.n.02\n",
      "strait.n.01\n",
      "sound.n.08\n",
      "sound.v.01\n",
      "sound.v.02\n",
      "sound.v.03\n",
      "sound.v.04\n",
      "voice.v.02\n",
      "sound.v.06\n",
      "fathom.v.02\n",
      "sound.a.01\n",
      "healthy.s.04\n",
      "sound.a.03\n",
      "good.s.17\n",
      "reasoned.s.01\n",
      "legal.s.03\n",
      "sound.s.07\n",
      "heavy.s.26\n",
      "sound.s.09\n"
     ]
    }
   ],
   "source": [
    "for word in wordnet.synsets('sound'):\n",
    "    print(word.name())"
   ]
  },
  {
   "cell_type": "code",
   "execution_count": 14,
   "metadata": {},
   "outputs": [
    {
     "name": "stdout",
     "output_type": "stream",
     "text": [
      "sound.v.01\n",
      "sound.v.02\n",
      "sound.v.03\n",
      "sound.v.04\n",
      "voice.v.02\n",
      "sound.v.06\n",
      "fathom.v.02\n"
     ]
    }
   ],
   "source": [
    "for word in wordnet.synsets('sound', pos='v'):\n",
    "    print(word.name())"
   ]
  },
  {
   "cell_type": "code",
   "execution_count": 15,
   "metadata": {},
   "outputs": [
    {
     "name": "stdout",
     "output_type": "stream",
     "text": [
      "sound.n.01\n",
      "sound.n.02\n",
      "sound.n.03\n",
      "sound.n.04\n",
      "audio.n.01\n",
      "phone.n.02\n",
      "strait.n.01\n",
      "sound.n.08\n"
     ]
    }
   ],
   "source": [
    "for word in wordnet.synsets('sound', pos='n'):\n",
    "    print(word.name())"
   ]
  },
  {
   "cell_type": "code",
   "execution_count": 16,
   "metadata": {},
   "outputs": [],
   "source": [
    "# Read a word from user and print all meanings of it\n",
    "# Read a word from user and print all noun meanings of it"
   ]
  },
  {
   "cell_type": "code",
   "execution_count": 17,
   "metadata": {},
   "outputs": [
    {
     "name": "stdout",
     "output_type": "stream",
     "text": [
      "glass.n.01 --> a brittle transparent solid with irregular atomic structure\n",
      "glass.n.02 --> a container for holding liquids while drinking\n",
      "glass.n.03 --> the quantity a glass will hold\n",
      "field_glass.n.01 --> a small refracting telescope\n",
      "methamphetamine.n.01 --> an amphetamine derivative (trade name Methedrine) used in the form of a crystalline hydrochloride; used as a stimulant to the nervous system and as an appetite suppressant\n",
      "looking_glass.n.01 --> a mirror; usually a ladies' dressing mirror\n",
      "glass.n.07 --> glassware collectively\n",
      "glass.v.01 --> furnish with glass\n",
      "glass.v.02 --> scan (game in the forest) with binoculars\n",
      "glass.v.03 --> enclose with glass\n",
      "glass.v.04 --> put in a glass container\n",
      "glaze.v.02 --> become glassy or take on a glass-like appearance\n"
     ]
    }
   ],
   "source": [
    "user_input = input(\"Enter a word: \")\n",
    "\n",
    "for word in wordnet.synsets(user_input):\n",
    "    print(word.name(), \"-->\", word.definition())"
   ]
  },
  {
   "cell_type": "code",
   "execution_count": 18,
   "metadata": {},
   "outputs": [
    {
     "name": "stdout",
     "output_type": "stream",
     "text": [
      "glass.n.01 --> a brittle transparent solid with irregular atomic structure\n",
      "glass.n.02 --> a container for holding liquids while drinking\n",
      "glass.n.03 --> the quantity a glass will hold\n",
      "field_glass.n.01 --> a small refracting telescope\n",
      "methamphetamine.n.01 --> an amphetamine derivative (trade name Methedrine) used in the form of a crystalline hydrochloride; used as a stimulant to the nervous system and as an appetite suppressant\n",
      "looking_glass.n.01 --> a mirror; usually a ladies' dressing mirror\n",
      "glass.n.07 --> glassware collectively\n"
     ]
    }
   ],
   "source": [
    "user_input = input(\"Enter a word: \")\n",
    "\n",
    "for word in wordnet.synsets(user_input, pos='n'):\n",
    "    print(word.name(), \"-->\", word.definition())"
   ]
  },
  {
   "cell_type": "code",
   "execution_count": 19,
   "metadata": {},
   "outputs": [],
   "source": [
    "#### Extract specific pos from word\n",
    "\n",
    "verbs = set()\n",
    "nouns = set()\n",
    "adj = set()\n",
    "\n",
    "for word in wordnet.synsets('sound', pos='n'):\n",
    "    nouns.add(word.lemmas()[0].name())\n",
    "for word in wordnet.synsets('sound', pos='v'):\n",
    "    verbs.add(word.lemmas()[0].name())\n",
    "for word in wordnet.synsets('sound', pos='a'):\n",
    "    adj.add(word.lemmas()[0].name())"
   ]
  },
  {
   "cell_type": "code",
   "execution_count": 20,
   "metadata": {},
   "outputs": [
    {
     "data": {
      "text/plain": [
       "{'fathom', 'sound', 'voice'}"
      ]
     },
     "execution_count": 20,
     "metadata": {},
     "output_type": "execute_result"
    }
   ],
   "source": [
    "verbs"
   ]
  },
  {
   "cell_type": "code",
   "execution_count": 21,
   "metadata": {},
   "outputs": [
    {
     "data": {
      "text/plain": [
       "{'audio', 'phone', 'sound', 'strait'}"
      ]
     },
     "execution_count": 21,
     "metadata": {},
     "output_type": "execute_result"
    }
   ],
   "source": [
    "nouns"
   ]
  },
  {
   "cell_type": "code",
   "execution_count": 22,
   "metadata": {},
   "outputs": [
    {
     "data": {
      "text/plain": [
       "{'good', 'healthy', 'heavy', 'legal', 'reasoned', 'sound'}"
      ]
     },
     "execution_count": 22,
     "metadata": {},
     "output_type": "execute_result"
    }
   ],
   "source": [
    "adj"
   ]
  },
  {
   "cell_type": "markdown",
   "metadata": {},
   "source": [
    "# Find antonyms of word"
   ]
  },
  {
   "cell_type": "code",
   "execution_count": 23,
   "metadata": {},
   "outputs": [
    {
     "name": "stdout",
     "output_type": "stream",
     "text": [
      "Antonyms:  {'impossible', 'actual'}\n"
     ]
    }
   ],
   "source": [
    "ant = set()\n",
    "for synset in wordnet.synsets(\"possible\"):\n",
    "    for lemma in synset.lemmas():\n",
    "        if lemma.antonyms():\n",
    "            ant.add(lemma.antonyms()[0].name())\n",
    "print('Antonyms: ', ant)"
   ]
  },
  {
   "cell_type": "markdown",
   "metadata": {},
   "source": [
    "# Extract the hypernyms"
   ]
  },
  {
   "cell_type": "code",
   "execution_count": 26,
   "metadata": {},
   "outputs": [],
   "source": [
    "word = 'paper'\n",
    "synsets = wordnet.synsets(word)\n"
   ]
  },
  {
   "cell_type": "code",
   "execution_count": 27,
   "metadata": {},
   "outputs": [
    {
     "name": "stdout",
     "output_type": "stream",
     "text": [
      "paper is a hyponym of material.n.01\n",
      "paper is a hyponym of essay.n.01\n",
      "paper is a hyponym of press.n.02\n",
      "paper is a hyponym of medium.n.01\n",
      "paper is a hyponym of article.n.01\n",
      "paper is a hyponym of publisher.n.01\n",
      "paper is a hyponym of product.n.02\n",
      "paper is a hyponym of cover.v.01\n",
      "paper is a hyponym of cover.v.01\n"
     ]
    }
   ],
   "source": [
    "for synset in synsets:\n",
    "    # Get hypernyms (parent concepts)\n",
    "    hypernyms = synset.hypernyms()\n",
    "\n",
    "    # Check if there are any other hypernyms\n",
    "    if hypernyms:\n",
    "        # Print hypernyms (can access name property for text)\n",
    "        for hypernym in hypernyms:\n",
    "            print(f'{word} is a hyponym of {hypernym.name()}')\n"
   ]
  },
  {
   "cell_type": "markdown",
   "metadata": {},
   "source": [
    "### Extract the meronyms"
   ]
  },
  {
   "cell_type": "code",
   "execution_count": 32,
   "metadata": {},
   "outputs": [
    {
     "name": "stdout",
     "output_type": "stream",
     "text": [
      "car has a meronym of accelerator.n.01\n",
      "car has a meronym of air_bag.n.01\n",
      "car has a meronym of auto_accessory.n.01\n",
      "car has a meronym of automobile_engine.n.01\n",
      "car has a meronym of automobile_horn.n.01\n",
      "car has a meronym of buffer.n.06\n",
      "car has a meronym of bumper.n.02\n",
      "car has a meronym of car_door.n.01\n",
      "car has a meronym of car_mirror.n.01\n",
      "car has a meronym of car_seat.n.01\n",
      "car has a meronym of car_window.n.01\n",
      "car has a meronym of fender.n.01\n",
      "car has a meronym of first_gear.n.01\n",
      "car has a meronym of floorboard.n.02\n",
      "car has a meronym of gasoline_engine.n.01\n",
      "car has a meronym of glove_compartment.n.01\n",
      "car has a meronym of grille.n.02\n",
      "car has a meronym of high_gear.n.01\n",
      "car has a meronym of hood.n.09\n",
      "car has a meronym of luggage_compartment.n.01\n",
      "car has a meronym of rear_window.n.01\n",
      "car has a meronym of reverse.n.02\n",
      "car has a meronym of roof.n.02\n",
      "car has a meronym of running_board.n.01\n",
      "car has a meronym of stabilizer_bar.n.01\n",
      "car has a meronym of sunroof.n.01\n",
      "car has a meronym of tail_fin.n.02\n",
      "car has a meronym of third_gear.n.01\n",
      "car has a meronym of window.n.02\n",
      "car has a meronym of suspension.n.05\n"
     ]
    }
   ],
   "source": [
    "word = 'car'\n",
    "synsets = wordnet.synsets(word)\n",
    "\n",
    "for synset in synsets:\n",
    "    # Get number meronyms (component parts)\n",
    "    meronyms = synset.part_meronyms()\n",
    "\n",
    "    # Check if there are any other meronyms\n",
    "    if meronyms:\n",
    "        # Print meronyms (can access name property for text)\n",
    "        for meronym in meronyms:\n",
    "            print(f'{word} has a meronym of {meronym.name()}')\n"
   ]
  },
  {
   "cell_type": "code",
   "execution_count": null,
   "metadata": {},
   "outputs": [],
   "source": []
  }
 ],
 "metadata": {
  "kernelspec": {
   "display_name": "base",
   "language": "python",
   "name": "python3"
  },
  "language_info": {
   "codemirror_mode": {
    "name": "ipython",
    "version": 3
   },
   "file_extension": ".py",
   "mimetype": "text/x-python",
   "name": "python",
   "nbconvert_exporter": "python",
   "pygments_lexer": "ipython3",
   "version": "3.9.13"
  }
 },
 "nbformat": 4,
 "nbformat_minor": 2
}
