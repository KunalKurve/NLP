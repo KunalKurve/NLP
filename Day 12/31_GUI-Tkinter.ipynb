{
 "cells": [
  {
   "cell_type": "code",
   "execution_count": 3,
   "metadata": {},
   "outputs": [],
   "source": [
    "from tkinter import *"
   ]
  },
  {
   "cell_type": "markdown",
   "metadata": {},
   "source": [
    "### Basic Application"
   ]
  },
  {
   "cell_type": "code",
   "execution_count": 4,
   "metadata": {},
   "outputs": [],
   "source": [
    "top = Tk()\n",
    "\n",
    "top.mainloop()      # The next cell will not be executed unless the cell is closed"
   ]
  },
  {
   "cell_type": "markdown",
   "metadata": {},
   "source": [
    "### Customization"
   ]
  },
  {
   "cell_type": "code",
   "execution_count": 5,
   "metadata": {},
   "outputs": [],
   "source": [
    "top = Tk()\n",
    "top.title('My First Application')\n",
    "top.geometry('500x300')     #(wxh)\n",
    "top.mainloop() "
   ]
  },
  {
   "cell_type": "markdown",
   "metadata": {},
   "source": [
    "### Add Widgets"
   ]
  },
  {
   "cell_type": "code",
   "execution_count": 6,
   "metadata": {},
   "outputs": [],
   "source": [
    "top = Tk()\n",
    "top.title('My First Application')\n",
    "top.geometry('500x300')     #(wxh)\n",
    "\n",
    "l = Label(top, text = 'Hello World!')\n",
    "l.pack()    # Adds widget sequentially. Layout Initializer\n",
    "\n",
    "top.mainloop() "
   ]
  },
  {
   "cell_type": "code",
   "execution_count": 7,
   "metadata": {},
   "outputs": [],
   "source": [
    "top = Tk()\n",
    "top.title('My First Application')\n",
    "top.geometry('500x300')     #(wxh)\n",
    "\n",
    "l = Label(top, text = 'Hello World!')\n",
    "Entry(top).pack()\n",
    "Button(top, text='Submit').pack()\n",
    "\n",
    "top.mainloop() "
   ]
  },
  {
   "cell_type": "markdown",
   "metadata": {},
   "source": [
    "How to Generate an event - Active and Passive\n",
    "- Active:\n",
    "- Passive: "
   ]
  },
  {
   "cell_type": "markdown",
   "metadata": {},
   "source": [
    "### Event Handling"
   ]
  },
  {
   "cell_type": "code",
   "execution_count": 8,
   "metadata": {},
   "outputs": [],
   "source": [
    "top = Tk()\n",
    "top.title('My First Application')\n",
    "top.geometry('500x300')     #(wxh)\n",
    "\n",
    "def show():\n",
    "    name = str(e.get())\n",
    "    print(\"Hello\", name.upper())\n",
    "\n",
    "Label(top, text = 'Enter Your Name:')\n",
    "e = Entry(top)\n",
    "e.pack()\n",
    "Button(top, text='Submit', command=show).pack()\n",
    "\n",
    "top.mainloop() "
   ]
  },
  {
   "cell_type": "code",
   "execution_count": 9,
   "metadata": {},
   "outputs": [
    {
     "ename": "KeyboardInterrupt",
     "evalue": "",
     "output_type": "error",
     "traceback": [
      "\u001b[0;31m---------------------------------------------------------------------------\u001b[0m",
      "\u001b[0;31mKeyboardInterrupt\u001b[0m                         Traceback (most recent call last)",
      "Cell \u001b[0;32mIn[9], line 14\u001b[0m\n\u001b[1;32m     11\u001b[0m e\u001b[38;5;241m.\u001b[39mpack()\n\u001b[1;32m     12\u001b[0m Button(top, text\u001b[38;5;241m=\u001b[39m\u001b[38;5;124m'\u001b[39m\u001b[38;5;124mSubmit\u001b[39m\u001b[38;5;124m'\u001b[39m, command\u001b[38;5;241m=\u001b[39mshow)\u001b[38;5;241m.\u001b[39mpack()\n\u001b[0;32m---> 14\u001b[0m \u001b[43mtop\u001b[49m\u001b[38;5;241;43m.\u001b[39;49m\u001b[43mmainloop\u001b[49m\u001b[43m(\u001b[49m\u001b[43m)\u001b[49m \n",
      "File \u001b[0;32m/usr/lib/python3.10/tkinter/__init__.py:1458\u001b[0m, in \u001b[0;36mMisc.mainloop\u001b[0;34m(self, n)\u001b[0m\n\u001b[1;32m   1456\u001b[0m \u001b[38;5;28;01mdef\u001b[39;00m \u001b[38;5;21mmainloop\u001b[39m(\u001b[38;5;28mself\u001b[39m, n\u001b[38;5;241m=\u001b[39m\u001b[38;5;241m0\u001b[39m):\n\u001b[1;32m   1457\u001b[0m \u001b[38;5;250m    \u001b[39m\u001b[38;5;124;03m\"\"\"Call the mainloop of Tk.\"\"\"\u001b[39;00m\n\u001b[0;32m-> 1458\u001b[0m     \u001b[38;5;28;43mself\u001b[39;49m\u001b[38;5;241;43m.\u001b[39;49m\u001b[43mtk\u001b[49m\u001b[38;5;241;43m.\u001b[39;49m\u001b[43mmainloop\u001b[49m\u001b[43m(\u001b[49m\u001b[43mn\u001b[49m\u001b[43m)\u001b[49m\n",
      "\u001b[0;31mKeyboardInterrupt\u001b[0m: "
     ]
    }
   ],
   "source": [
    "top = Tk()\n",
    "top.title('My First Application')\n",
    "top.geometry('500x300')     #(wxh)\n",
    "\n",
    "def show():\n",
    "    name = str(e.get())\n",
    "    Label(top, text='Your name: '+name).pack()\n",
    "\n",
    "Label(top, text = 'Enter Your Name:')\n",
    "e = Entry(top)\n",
    "e.pack()\n",
    "Button(top, text='Submit', command=show).pack()\n",
    "\n",
    "top.mainloop() "
   ]
  },
  {
   "cell_type": "markdown",
   "metadata": {},
   "source": [
    "### Interactive Application"
   ]
  },
  {
   "cell_type": "code",
   "execution_count": null,
   "metadata": {},
   "outputs": [],
   "source": [
    "top = Tk()\n",
    "top.title('My First Application')\n",
    "top.geometry('500x300')     #(wxh)\n",
    "\n",
    "def show():\n",
    "    num = int(e.get())\n",
    "    num **= 2\n",
    "    Label(top, text='Square =  '+str(num)).place(x=50, y=150)\n",
    "\n",
    "Label(top, text = 'Enter Your Number:').place(x=50, y=30)\n",
    "e = Entry(top)\n",
    "e.place(x=50, y=70)\n",
    "Button(top, text='Submit', command=show).place(x=50, y=110)\n",
    "\n",
    "top.mainloop() "
   ]
  },
  {
   "cell_type": "code",
   "execution_count": null,
   "metadata": {},
   "outputs": [],
   "source": [
    "top = Tk()\n",
    "top.title('Calculator')\n",
    "top.geometry('800x600')     #(wxh)\n",
    "\n",
    "def add():\n",
    "    num1 = int(e1.get())\n",
    "    num2 = int(e2.get())\n",
    "    sum = num1 + num2\n",
    "    Label(top, text='Sum =  '+str(sum)).place(x=100, y=200)\n",
    "\n",
    "def sub():\n",
    "    num1 = int(e1.get())\n",
    "    num2 = int(e2.get())\n",
    "    sub = num1 - num2\n",
    "    Label(top, text='Difference =  '+str(sub)).place(x=100, y=200)\n",
    "\n",
    "def mul():\n",
    "    num1 = int(e1.get())\n",
    "    num2 = int(e2.get())\n",
    "    prod = num1 * num2\n",
    "    Label(top, text='Product =  '+str(prod)).place(x=100, y=200)\n",
    "\n",
    "def div():\n",
    "    num1 = int(e1.get())\n",
    "    num2 = int(e2.get())\n",
    "    div = num1 / num2\n",
    "    Label(top, text='Division =  '+str(div)).place(x=100, y=200)\n",
    "\n",
    "l1 = Label(top, text = 'Enter Your Number 1:').place(x=100, y=30)\n",
    "l2 = Label(top, text = 'Enter Your Number 2:').place(x=350, y=30)\n",
    "\n",
    "e1 = Entry(top)\n",
    "e2 = Entry(top)\n",
    "e1.place(x=100, y=60)\n",
    "e2.place(x=350, y=60)\n",
    "\n",
    "l = Label(top, text='').place(x=100, y=300)\n",
    "\n",
    "Button(top, text='+', command=add).place(x=100, y=100)\n",
    "Button(top, text='-', command=sub).place(x=150, y=100)\n",
    "Button(top, text='*', command=mul).place(x=200, y=100)\n",
    "Button(top, text='/', command=div).place(x=250, y=100)\n",
    "\n",
    "# Button(top, text='Result:', command=show).place(x=100, y=200)\n",
    "\n",
    "top.mainloop() "
   ]
  },
  {
   "cell_type": "code",
   "execution_count": null,
   "metadata": {},
   "outputs": [],
   "source": [
    "top = Tk()\n",
    "top.title('Calculator')\n",
    "top.geometry('800x600')     #(wxh)\n",
    "\n",
    "def op(sin):\n",
    "    num1 = int(e1.get())\n",
    "    num2 = int(e2.get())\n",
    "    \n",
    "    if sin == '+':\n",
    "        sum = num1 + num2\n",
    "        Label(top, text='Sum =  '+str(sum)).place(x=100, y=200)\n",
    "    \n",
    "    elif sin == '-':\n",
    "        sub = num1 - num2\n",
    "        Label(top, text='Difference =  '+str(sub)).place(x=100, y=200)\n",
    "\n",
    "    elif sin == '*':\n",
    "        prod = num1 * num2\n",
    "        Label(top, text='Product =  '+str(prod)).place(x=100, y=200)\n",
    "\n",
    "    elif sin == '/':\n",
    "        div = num1 / num2\n",
    "        Label(top, text='Division =  '+str(div)).place(x=100, y=200)\n",
    "\n",
    "\n",
    "l1 = Label(top, text = 'Enter Your Number 1:').place(x=100, y=30)\n",
    "l2 = Label(top, text = 'Enter Your Number 2:').place(x=350, y=30)\n",
    "\n",
    "e1 = Entry(top)\n",
    "e2 = Entry(top)\n",
    "e1.place(x=100, y=60)\n",
    "e2.place(x=350, y=60)\n",
    "\n",
    "Button(top, text='+', command=lambda :op('+')).place(x=100, y=100)\n",
    "Button(top, text='-', command=lambda :op('-')).place(x=150, y=100)\n",
    "Button(top, text='*', command=lambda :op('*')).place(x=200, y=100)\n",
    "Button(top, text='/', command=lambda :op('/')).place(x=250, y=100)\n",
    "\n",
    "# Button(top, text='Result:', command=show).place(x=100, y=200)\n",
    "\n",
    "top.mainloop() "
   ]
  },
  {
   "cell_type": "code",
   "execution_count": 10,
   "metadata": {},
   "outputs": [
    {
     "name": "stderr",
     "output_type": "stream",
     "text": [
      "Exception in Tkinter callback\n",
      "Traceback (most recent call last):\n",
      "  File \"/usr/lib/python3.10/tkinter/__init__.py\", line 1921, in __call__\n",
      "    return self.func(*args)\n",
      "  File \"/tmp/ipykernel_26591/4284640953.py\", line 23, in check\n",
      "    tfidf = joblib.load('preprocessor.model')\n",
      "  File \"/home/pgdai/.local/lib/python3.10/site-packages/joblib/numpy_pickle.py\", line 658, in load\n",
      "    obj = _unpickle(fobj, filename, mmap_mode)\n",
      "  File \"/home/pgdai/.local/lib/python3.10/site-packages/joblib/numpy_pickle.py\", line 577, in _unpickle\n",
      "    obj = unpickler.load()\n",
      "  File \"/usr/lib/python3.10/pickle.py\", line 1213, in load\n",
      "    dispatch[key[0]](self)\n",
      "  File \"/usr/lib/python3.10/pickle.py\", line 1538, in load_stack_global\n",
      "    self.append(self.find_class(module, name))\n",
      "  File \"/usr/lib/python3.10/pickle.py\", line 1582, in find_class\n",
      "    return _getattribute(sys.modules[module], name)[0]\n",
      "  File \"/usr/lib/python3.10/pickle.py\", line 331, in _getattribute\n",
      "    raise AttributeError(\"Can't get attribute {!r} on {!r}\"\n",
      "AttributeError: Can't get attribute 'clean_text' on <module '__main__'>\n",
      "Exception in Tkinter callback\n",
      "Traceback (most recent call last):\n",
      "  File \"/usr/lib/python3.10/tkinter/__init__.py\", line 1921, in __call__\n",
      "    return self.func(*args)\n",
      "  File \"/tmp/ipykernel_26591/4284640953.py\", line 23, in check\n",
      "    tfidf = joblib.load('preprocessor.model')\n",
      "  File \"/home/pgdai/.local/lib/python3.10/site-packages/joblib/numpy_pickle.py\", line 658, in load\n",
      "    obj = _unpickle(fobj, filename, mmap_mode)\n",
      "  File \"/home/pgdai/.local/lib/python3.10/site-packages/joblib/numpy_pickle.py\", line 577, in _unpickle\n",
      "    obj = unpickler.load()\n",
      "  File \"/usr/lib/python3.10/pickle.py\", line 1213, in load\n",
      "    dispatch[key[0]](self)\n",
      "  File \"/usr/lib/python3.10/pickle.py\", line 1538, in load_stack_global\n",
      "    self.append(self.find_class(module, name))\n",
      "  File \"/usr/lib/python3.10/pickle.py\", line 1582, in find_class\n",
      "    return _getattribute(sys.modules[module], name)[0]\n",
      "  File \"/usr/lib/python3.10/pickle.py\", line 331, in _getattribute\n",
      "    raise AttributeError(\"Can't get attribute {!r} on {!r}\"\n",
      "AttributeError: Can't get attribute 'clean_text' on <module '__main__'>\n",
      "Exception in Tkinter callback\n",
      "Traceback (most recent call last):\n",
      "  File \"/usr/lib/python3.10/tkinter/__init__.py\", line 1921, in __call__\n",
      "    return self.func(*args)\n",
      "  File \"/tmp/ipykernel_26591/4284640953.py\", line 23, in check\n",
      "    tfidf = joblib.load('preprocessor.model')\n",
      "  File \"/home/pgdai/.local/lib/python3.10/site-packages/joblib/numpy_pickle.py\", line 658, in load\n",
      "    obj = _unpickle(fobj, filename, mmap_mode)\n",
      "  File \"/home/pgdai/.local/lib/python3.10/site-packages/joblib/numpy_pickle.py\", line 577, in _unpickle\n",
      "    obj = unpickler.load()\n",
      "  File \"/usr/lib/python3.10/pickle.py\", line 1213, in load\n",
      "    dispatch[key[0]](self)\n",
      "  File \"/usr/lib/python3.10/pickle.py\", line 1538, in load_stack_global\n",
      "    self.append(self.find_class(module, name))\n",
      "  File \"/usr/lib/python3.10/pickle.py\", line 1582, in find_class\n",
      "    return _getattribute(sys.modules[module], name)[0]\n",
      "  File \"/usr/lib/python3.10/pickle.py\", line 331, in _getattribute\n",
      "    raise AttributeError(\"Can't get attribute {!r} on {!r}\"\n",
      "AttributeError: Can't get attribute 'clean_text' on <module '__main__'>\n"
     ]
    },
    {
     "ename": "KeyboardInterrupt",
     "evalue": "",
     "output_type": "error",
     "traceback": [
      "\u001b[0;31m---------------------------------------------------------------------------\u001b[0m",
      "\u001b[0;31mKeyboardInterrupt\u001b[0m                         Traceback (most recent call last)",
      "Cell \u001b[0;32mIn[10], line 34\u001b[0m\n\u001b[1;32m     32\u001b[0m Button(top, text\u001b[38;5;241m=\u001b[39m\u001b[38;5;124m'\u001b[39m\u001b[38;5;124mCheck\u001b[39m\u001b[38;5;124m'\u001b[39m, command\u001b[38;5;241m=\u001b[39mcheck)\u001b[38;5;241m.\u001b[39mplace(x\u001b[38;5;241m=\u001b[39m\u001b[38;5;241m350\u001b[39m, y\u001b[38;5;241m=\u001b[39m\u001b[38;5;241m500\u001b[39m)\n\u001b[1;32m     33\u001b[0m l \u001b[38;5;241m=\u001b[39m Label(top, text \u001b[38;5;241m=\u001b[39m\u001b[38;5;124m'\u001b[39m\u001b[38;5;124mMessage is: \u001b[39m\u001b[38;5;124m'\u001b[39m)\n\u001b[0;32m---> 34\u001b[0m \u001b[43mtop\u001b[49m\u001b[38;5;241;43m.\u001b[39;49m\u001b[43mmainloop\u001b[49m\u001b[43m(\u001b[49m\u001b[43m)\u001b[49m  \u001b[38;5;66;03m# Start the Tkinter event loop\u001b[39;00m\n",
      "File \u001b[0;32m/usr/lib/python3.10/tkinter/__init__.py:1458\u001b[0m, in \u001b[0;36mMisc.mainloop\u001b[0;34m(self, n)\u001b[0m\n\u001b[1;32m   1456\u001b[0m \u001b[38;5;28;01mdef\u001b[39;00m \u001b[38;5;21mmainloop\u001b[39m(\u001b[38;5;28mself\u001b[39m, n\u001b[38;5;241m=\u001b[39m\u001b[38;5;241m0\u001b[39m):\n\u001b[1;32m   1457\u001b[0m \u001b[38;5;250m    \u001b[39m\u001b[38;5;124;03m\"\"\"Call the mainloop of Tk.\"\"\"\u001b[39;00m\n\u001b[0;32m-> 1458\u001b[0m     \u001b[38;5;28;43mself\u001b[39;49m\u001b[38;5;241;43m.\u001b[39;49m\u001b[43mtk\u001b[49m\u001b[38;5;241;43m.\u001b[39;49m\u001b[43mmainloop\u001b[49m\u001b[43m(\u001b[49m\u001b[43mn\u001b[49m\u001b[43m)\u001b[49m\n",
      "\u001b[0;31mKeyboardInterrupt\u001b[0m: "
     ]
    }
   ],
   "source": [
    "import joblib\n",
    "from tkinter import *\n",
    "from nltk.tokenize import word_tokenize\n",
    "from nltk.corpus import stopwords\n",
    "from nltk.stem import PorterStemmer\n",
    "\n",
    "ps = PorterStemmer()\n",
    "swords = stopwords.words('english')\n",
    "top = Tk()\n",
    "top.title(\"SMS Classification\")\n",
    "top[\"bg\"]=\"black\"\n",
    "top.geometry('800x600')\n",
    "\n",
    "def clean_txt(sent):\n",
    "    tokens = word_tokenize(sent)  # Step-1. Tokenize the text\n",
    "    tokens = [token for token in tokens if token.isalnum()]  # Step-2 Remove the punctuations\n",
    "    tokens = [token for token in tokens if token.lower() not in swords]  # Step-3 Remove stopwords\n",
    "    tokens = [ps.stem(token) for token in tokens]  # step-4 Remove the suffixes\n",
    "    return tokens \n",
    "\n",
    "def check():\n",
    "    classifier = joblib.load(\"classifier.model\")\n",
    "    tfidf = joblib.load('preprocessor.model')\n",
    "    message = str(t.get(1.0))\n",
    "    result = classifier.predict(tfidf.transform([message]))\n",
    "    l.config(text='Message is: ' +str(result[0]))\n",
    "    l.place(x=50, y=150)\n",
    "\n",
    "Label(top, text='Enter your message here: ').place(x=50, y=30)\n",
    "t = Text(top)\n",
    "t.place(x=50, y=70)\n",
    "Button(top, text='Check', command=check).place(x=350, y=500)\n",
    "l = Label(top, text ='Message is: ')\n",
    "top.mainloop()  # Start the Tkinter event loop"
   ]
  },
  {
   "cell_type": "code",
   "execution_count": null,
   "metadata": {},
   "outputs": [],
   "source": []
  }
 ],
 "metadata": {
  "kernelspec": {
   "display_name": "Python 3",
   "language": "python",
   "name": "python3"
  },
  "language_info": {
   "codemirror_mode": {
    "name": "ipython",
    "version": 3
   },
   "file_extension": ".py",
   "mimetype": "text/x-python",
   "name": "python",
   "nbconvert_exporter": "python",
   "pygments_lexer": "ipython3",
   "version": "3.10.12"
  }
 },
 "nbformat": 4,
 "nbformat_minor": 2
}
