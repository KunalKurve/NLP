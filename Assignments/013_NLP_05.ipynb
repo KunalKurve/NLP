{
 "cells": [
  {
   "cell_type": "markdown",
   "metadata": {},
   "source": [
    "## Assignment 5\n",
    "\n",
    "- ### Name: Manasi Malge\n",
    "- ### PRN: 240340128013\n",
    "- ### Date: 17/06/2024"
   ]
  },
  {
   "cell_type": "markdown",
   "metadata": {},
   "source": [
    "1. Download the data from the link below using web scrapping:\n",
    "https://en.wikipedia.org/wiki/Mount_Everest\n",
    "Find the count of Total “Mount” in the text.\n",
    "Save the extracted plain text contents in file mount.txt in upper case.\n",
    "Print the title of this page.\n",
    "\n",
    "2. Read the following file\n",
    "\n",
    "https://www.london.ac.uk/sites/default/files/study-guides/introduction-to-\n",
    "natural-language-processing.pdf\n",
    "\n",
    "Print only page number 12 and 13 from it.\n",
    "Save this contents in a file nlp.txt\n",
    "3. Read the file from the link givcen below:\n",
    "\n",
    "https://icml.cc/Conferences/2013/wp-content/uploads/2013/06/Machine-\n",
    "Learning-and-Natural-Language-Processing.docx\n",
    "\n",
    "Read and display first 5 paragraphs from it.\n",
    "Count total ‘The’ present in the text."
   ]
  },
  {
   "cell_type": "markdown",
   "metadata": {},
   "source": [
    "### Q1\n",
    "- Download the data from the link below using web scrapping:\n",
    "- https://en.wikipedia.org/wiki/Mount_Everest\n",
    "- Find the count of Total “Mount” in the text.\n",
    "- Save the extracted plain text contents in file mount.txt in upper case.\n",
    "- Print the title of this page."
   ]
  },
  {
   "cell_type": "code",
   "execution_count": null,
   "metadata": {},
   "outputs": [],
   "source": []
  }
 ],
 "metadata": {
  "language_info": {
   "name": "python"
  }
 },
 "nbformat": 4,
 "nbformat_minor": 2
}
